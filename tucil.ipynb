{
 "cells": [
  {
   "cell_type": "code",
   "execution_count": 164,
   "metadata": {},
   "outputs": [],
   "source": [
    "# Import dataset library\n",
    "import pandas as pd\n",
    "from sklearn import datasets\n",
    "from sklearn.preprocessing import LabelEncoder\n",
    "\n",
    "# Import algorithm library\n",
    "from sklearn import tree\n",
    "import six\n",
    "import sys\n",
    "sys.modules['sklearn.externals.six'] = six\n",
    "from id3 import Id3Estimator, export_text\n",
    "from sklearn.cluster import KMeans\n",
    "from sklearn.neural_network import MLPClassifier\n",
    "from sklearn.metrics import accuracy_score, f1_score\n",
    "from sklearn.linear_model import LogisticRegression\n",
    "from sklearn.pipeline import make_pipeline\n",
    "from sklearn.preprocessing import StandardScaler\n",
    "from sklearn.svm import SVC\n",
    "# Load the breast cancer dataset\n",
    "breast_cancer_dataset = datasets.load_breast_cancer()\n",
    "\n",
    "# Load the play tennis dataset and encode data\n",
    "play_tennis_dataset = pd.read_csv('./PlayTennis.csv')"
   ]
  },
  {
   "cell_type": "code",
   "execution_count": 165,
   "metadata": {},
   "outputs": [],
   "source": [
    "# Encode play tennis dataset\n",
    "label_encoder = LabelEncoder()\n",
    "\n",
    "play_tennis_dataset_encoded = pd.DataFrame([label_encoder.fit_transform(play_tennis_dataset[column]) for column in play_tennis_dataset.columns]).transpose()\n",
    "play_tennis_dataset_encoded.columns = play_tennis_dataset.columns\n",
    "\n",
    "play_tennis_classes = dict()\n",
    "for column in play_tennis_dataset_encoded.columns:\n",
    "    play_tennis_classes[column] = label_encoder.fit(play_tennis_dataset[column]).classes_\n",
    "\n",
    "play_tennis_labels = play_tennis_dataset_encoded.pop('play')"
   ]
  },
  {
   "cell_type": "code",
   "execution_count": 166,
   "metadata": {},
   "outputs": [],
   "source": [
    "# Parse data into training and testing\n",
    "def parse_data(dataset, label, training_percentage):\n",
    "    training_size = round(len(dataset) * training_percentage)\n",
    "\n",
    "    training_data = dataset[:training_size]\n",
    "    testing_data = dataset[training_size:]\n",
    "\n",
    "    training_label = label[:training_size]\n",
    "    testing_label = label[training_size:]\n",
    "    return training_data, testing_data, training_label, testing_label\n",
    "\n",
    "bc_training_data, bc_testing_data, bc_training_label, bc_testing_label = parse_data(breast_cancer_dataset.data, breast_cancer_dataset.target, 0.8)\n",
    "pt_training_data, pt_testing_data, pt_training_label, pt_testing_label = parse_data(play_tennis_dataset_encoded, play_tennis_labels, 0.8)"
   ]
  },
  {
   "cell_type": "markdown",
   "metadata": {},
   "source": [
    "## Decision Tree Classifier"
   ]
  },
  {
   "cell_type": "code",
   "execution_count": 167,
   "metadata": {},
   "outputs": [
    {
     "name": "stdout",
     "output_type": "stream",
     "text": [
      "Breast Cancer\n",
      "|--- worst perimeter <= 106.05\n",
      "|   |--- worst smoothness <= 0.18\n",
      "|   |   |--- worst concave points <= 0.16\n",
      "|   |   |   |--- worst fractal dimension <= 0.06\n",
      "|   |   |   |   |--- class: 0\n",
      "|   |   |   |--- worst fractal dimension >  0.06\n",
      "|   |   |   |   |--- worst texture <= 30.15\n",
      "|   |   |   |   |   |--- area error <= 48.98\n",
      "|   |   |   |   |   |   |--- class: 1\n",
      "|   |   |   |   |   |--- area error >  48.98\n",
      "|   |   |   |   |   |   |--- mean compactness <= 0.06\n",
      "|   |   |   |   |   |   |   |--- class: 0\n",
      "|   |   |   |   |   |   |--- mean compactness >  0.06\n",
      "|   |   |   |   |   |   |   |--- class: 1\n",
      "|   |   |   |   |--- worst texture >  30.15\n",
      "|   |   |   |   |   |--- mean fractal dimension <= 0.06\n",
      "|   |   |   |   |   |   |--- class: 0\n",
      "|   |   |   |   |   |--- mean fractal dimension >  0.06\n",
      "|   |   |   |   |   |   |--- smoothness error <= 0.01\n",
      "|   |   |   |   |   |   |   |--- class: 1\n",
      "|   |   |   |   |   |   |--- smoothness error >  0.01\n",
      "|   |   |   |   |   |   |   |--- mean radius <= 12.38\n",
      "|   |   |   |   |   |   |   |   |--- class: 1\n",
      "|   |   |   |   |   |   |   |--- mean radius >  12.38\n",
      "|   |   |   |   |   |   |   |   |--- class: 0\n",
      "|   |   |--- worst concave points >  0.16\n",
      "|   |   |   |--- smoothness error <= 0.01\n",
      "|   |   |   |   |--- class: 0\n",
      "|   |   |   |--- smoothness error >  0.01\n",
      "|   |   |   |   |--- class: 1\n",
      "|   |--- worst smoothness >  0.18\n",
      "|   |   |--- class: 0\n",
      "|--- worst perimeter >  106.05\n",
      "|   |--- worst perimeter <= 117.45\n",
      "|   |   |--- mean texture <= 19.36\n",
      "|   |   |   |--- mean perimeter <= 91.97\n",
      "|   |   |   |   |--- class: 0\n",
      "|   |   |   |--- mean perimeter >  91.97\n",
      "|   |   |   |   |--- class: 1\n",
      "|   |   |--- mean texture >  19.36\n",
      "|   |   |   |--- worst smoothness <= 0.11\n",
      "|   |   |   |   |--- class: 1\n",
      "|   |   |   |--- worst smoothness >  0.11\n",
      "|   |   |   |   |--- class: 0\n",
      "|   |--- worst perimeter >  117.45\n",
      "|   |   |--- mean concave points <= 0.03\n",
      "|   |   |   |--- class: 1\n",
      "|   |   |--- mean concave points >  0.03\n",
      "|   |   |   |--- class: 0\n",
      "\n"
     ]
    }
   ],
   "source": [
    "# Breast Cancer\n",
    "print(\"Breast Cancer\")\n",
    "tree_decision_bc = tree.DecisionTreeClassifier(random_state=0)\n",
    "tree_decision_bc = tree_decision_bc.fit(bc_training_data, bc_training_label)\n",
    "result = tree.export_text(tree_decision_bc, feature_names=breast_cancer_dataset['feature_names'].tolist())\n",
    "print(result)"
   ]
  },
  {
   "cell_type": "code",
   "execution_count": 168,
   "metadata": {},
   "outputs": [
    {
     "name": "stdout",
     "output_type": "stream",
     "text": [
      "Accuracy Score: 0.8421052631578947\n",
      "F1 Score: 0.8044969512195121\n"
     ]
    }
   ],
   "source": [
    "# Evaluate the model\n",
    "tree_results_bc = tree_decision_bc.predict(bc_testing_data)\n",
    "print(\"Accuracy Score:\", accuracy_score(bc_testing_label, tree_results_bc))\n",
    "print(\"F1 Score:\", f1_score(bc_testing_label, tree_results_bc, average='macro'))"
   ]
  },
  {
   "cell_type": "code",
   "execution_count": 169,
   "metadata": {},
   "outputs": [
    {
     "name": "stdout",
     "output_type": "stream",
     "text": [
      "Play Tennis\n",
      "|--- outlook <= 1.50\n",
      "|   |--- windy <= 0.50\n",
      "|   |   |--- class: 1\n",
      "|   |--- windy >  0.50\n",
      "|   |   |--- outlook <= 0.50\n",
      "|   |   |   |--- class: 1\n",
      "|   |   |--- outlook >  0.50\n",
      "|   |   |   |--- class: 0\n",
      "|--- outlook >  1.50\n",
      "|   |--- humidity <= 0.50\n",
      "|   |   |--- class: 0\n",
      "|   |--- humidity >  0.50\n",
      "|   |   |--- class: 1\n",
      "\n"
     ]
    }
   ],
   "source": [
    "# Play Tennis\n",
    "print(\"Play Tennis\")\n",
    "tree_decision_pt = tree.DecisionTreeClassifier(random_state=0)\n",
    "tree_decision_pt = tree_decision_pt.fit(pt_training_data, pt_training_label)\n",
    "result = tree.export_text(tree_decision_pt, feature_names=play_tennis_dataset.columns[:-1].tolist())\n",
    "print(result)"
   ]
  },
  {
   "cell_type": "code",
   "execution_count": 170,
   "metadata": {},
   "outputs": [
    {
     "name": "stdout",
     "output_type": "stream",
     "text": [
      "Accuracy Score: 1.0\n",
      "F1 Score: 1.0\n"
     ]
    }
   ],
   "source": [
    "# Evaluate the model\n",
    "tree_results_pt = tree_decision_pt.predict(pt_testing_data)\n",
    "print(\"Accuracy Score:\", accuracy_score(pt_testing_label, tree_results_pt))\n",
    "print(\"F1 Score:\", f1_score(pt_testing_label, tree_results_pt, average='macro'))"
   ]
  },
  {
   "cell_type": "markdown",
   "metadata": {},
   "source": [
    "## ID3 Estimator"
   ]
  },
  {
   "cell_type": "code",
   "execution_count": 171,
   "metadata": {},
   "outputs": [
    {
     "name": "stdout",
     "output_type": "stream",
     "text": [
      "Breast Cancer\n",
      "\n",
      "worst perimeter <=106.05\n",
      "|   worst concave points <=0.13\n",
      "|   |   area error <=48.97\n",
      "|   |   |   worst texture <=30.15: 1 (222) \n",
      "|   |   |   worst texture >30.15\n",
      "|   |   |   |   mean radius <=12.69: 1 (14) \n",
      "|   |   |   |   mean radius >12.69\n",
      "|   |   |   |   |   compactness error <=0.01: 0 (2) \n",
      "|   |   |   |   |   compactness error >0.01: 1 (4) \n",
      "|   |   area error >48.97\n",
      "|   |   |   mean smoothness <=0.09: 1 (2) \n",
      "|   |   |   mean smoothness >0.09: 0 (2) \n",
      "|   worst concave points >0.13\n",
      "|   |   worst texture <=23.47: 1 (6) \n",
      "|   |   worst texture >23.47\n",
      "|   |   |   worst symmetry <=0.29\n",
      "|   |   |   |   mean radius <=14.13: 1 (3) \n",
      "|   |   |   |   mean radius >14.13: 0 (1) \n",
      "|   |   |   worst symmetry >0.29: 0 (11) \n",
      "worst perimeter >106.05\n",
      "|   worst radius <=18.22\n",
      "|   |   worst smoothness <=0.14\n",
      "|   |   |   mean texture <=22.26\n",
      "|   |   |   |   worst texture <=28.82: 1 (17) \n",
      "|   |   |   |   worst texture >28.82\n",
      "|   |   |   |   |   mean compactness <=0.10: 0 (2) \n",
      "|   |   |   |   |   mean compactness >0.10: 1 (1) \n",
      "|   |   |   mean texture >22.26: 0 (7) \n",
      "|   |   worst smoothness >0.14: 0 (31) \n",
      "|   worst radius >18.22: 0 (130) \n",
      "\n"
     ]
    }
   ],
   "source": [
    "id3_estimator = Id3Estimator()\n",
    "# Breast Cancer\n",
    "id3_estimator = id3_estimator.fit(bc_training_data, bc_training_label)\n",
    "id3_tree = export_text(id3_estimator.tree_, breast_cancer_dataset['feature_names'])\n",
    "print(\"Breast Cancer\")\n",
    "print(id3_tree)"
   ]
  },
  {
   "cell_type": "code",
   "execution_count": 172,
   "metadata": {},
   "outputs": [
    {
     "name": "stdout",
     "output_type": "stream",
     "text": [
      "Accuracy Score: 0.9210526315789473\n",
      "F1 Score: 0.8971015946244107\n"
     ]
    }
   ],
   "source": [
    "# Evaluate the model\n",
    "id3_results_bc = id3_estimator.predict(bc_testing_data)\n",
    "print(\"Accuracy Score:\", accuracy_score(bc_testing_label, id3_results_bc))\n",
    "print(\"F1 Score:\", f1_score(bc_testing_label, id3_results_bc, average='macro'))"
   ]
  },
  {
   "cell_type": "code",
   "execution_count": 173,
   "metadata": {},
   "outputs": [
    {
     "name": "stdout",
     "output_type": "stream",
     "text": [
      "Play Tennis\n",
      "\n",
      "outlook <=1.50\n",
      "|   windy <=0.50: 1 (4) \n",
      "|   windy >0.50: 0 (1/1) \n",
      "outlook >1.50\n",
      "|   humidity <=0.50: 0 (3) \n",
      "|   humidity >0.50: 1 (2) \n",
      "\n"
     ]
    }
   ],
   "source": [
    "# Play Tennis\n",
    "id3_estimator = id3_estimator.fit(pt_training_data, pt_training_label)\n",
    "id3_tree_pt = export_text(id3_estimator.tree_, feature_names=play_tennis_dataset.columns[:-1].tolist())\n",
    "print(\"Play Tennis\")\n",
    "print(id3_tree_pt)\n"
   ]
  },
  {
   "cell_type": "code",
   "execution_count": 174,
   "metadata": {},
   "outputs": [
    {
     "name": "stdout",
     "output_type": "stream",
     "text": [
      "Accuracy Score: 0.6666666666666666\n",
      "F1 Score: 0.6666666666666666\n"
     ]
    }
   ],
   "source": [
    "# Evaluate the model\n",
    "id3_results_pt = id3_estimator.predict(pt_testing_data)\n",
    "print(\"Accuracy Score:\", accuracy_score(pt_testing_label, id3_results_pt))\n",
    "print(\"F1 Score:\", f1_score(pt_testing_label, id3_results_pt, average='macro'))"
   ]
  },
  {
   "cell_type": "markdown",
   "metadata": {},
   "source": [
    "## K-Means"
   ]
  },
  {
   "cell_type": "code",
   "execution_count": 175,
   "metadata": {},
   "outputs": [
    {
     "name": "stdout",
     "output_type": "stream",
     "text": [
      "Breast Cancer\n",
      "                          Centroid 1  Centroid 2\n",
      "mean radius                19.222478   12.587553\n",
      "mean texture               21.637257   18.114649\n",
      "mean perimeter            127.108850   81.335819\n",
      "mean area                1164.976106  498.400585\n",
      "mean smoothness             0.101174    0.094907\n",
      "mean compactness            0.147851    0.090839\n",
      "mean concavity              0.173736    0.064169\n",
      "mean concave points         0.099197    0.034212\n",
      "mean symmetry               0.192082    0.179094\n",
      "mean fractal dimension      0.060460    0.063360\n",
      "radius error                0.718746    0.309820\n",
      "texture error               1.218749    1.195348\n",
      "perimeter error             5.091000    2.180759\n",
      "area error                 91.098673   24.335713\n",
      "smoothness error            0.006624    0.007115\n",
      "compactness error           0.032062    0.023753\n",
      "concavity error             0.042033    0.029298\n",
      "concave points error        0.015471    0.010760\n",
      "symmetry error              0.020625    0.021047\n",
      "fractal dimension error     0.003910    0.003774\n",
      "worst radius               23.543805   14.106199\n",
      "worst texture              28.990973   24.228187\n",
      "worst perimeter           157.214159   92.317427\n",
      "worst area               1727.044248  625.180409\n",
      "worst smoothness            0.141291    0.129660\n",
      "worst compactness           0.360365    0.224207\n",
      "worst concavity             0.449987    0.221810\n",
      "worst concave points        0.192116    0.092466\n",
      "worst symmetry              0.316540    0.286665\n",
      "worst fractal dimension     0.086298    0.083261\n"
     ]
    }
   ],
   "source": [
    "# Run K-Means clustering\n",
    "# Breast Cancer\n",
    "kmeans_bc = KMeans(n_clusters=2, random_state=0).fit(bc_training_data)\n",
    "\n",
    "print(\"Breast Cancer\")\n",
    "kmeans_centroids_bc = pd.DataFrame(kmeans_bc.cluster_centers_.transpose())\n",
    "kmeans_centroids_bc.index = breast_cancer_dataset['feature_names'].tolist()\n",
    "kmeans_centroids_bc.columns = [\"Centroid 1\", \"Centroid 2\"]\n",
    "print(kmeans_centroids_bc)"
   ]
  },
  {
   "cell_type": "code",
   "execution_count": 176,
   "metadata": {},
   "outputs": [
    {
     "name": "stdout",
     "output_type": "stream",
     "text": [
      "Accuracy Score: 0.9122807017543859\n",
      "F1 Score: 0.8591897233201581\n"
     ]
    }
   ],
   "source": [
    "# Evaluate the model\n",
    "kmeans_results_bc = kmeans_bc.predict(bc_testing_data)\n",
    "print(\"Accuracy Score:\", accuracy_score(bc_testing_label, kmeans_results_bc))\n",
    "print(\"F1 Score:\", f1_score(bc_testing_label, kmeans_results_bc, average='macro'))"
   ]
  },
  {
   "cell_type": "code",
   "execution_count": 177,
   "metadata": {},
   "outputs": [
    {
     "name": "stdout",
     "output_type": "stream",
     "text": [
      "Play Tennis\n",
      "          Centroid 1  Centroid 2\n",
      "outlook     1.666667         0.8\n",
      "temp        1.666667         0.2\n",
      "humidity    0.333333         0.8\n",
      "windy       0.333333         0.4\n"
     ]
    }
   ],
   "source": [
    "# Run K-Means clustering\n",
    "# Play Tennis\n",
    "kmeans_pt = KMeans(n_clusters=2, random_state=0).fit(pt_training_data)\n",
    "\n",
    "print(\"Play Tennis\")\n",
    "kmeans_centroids_pt = pd.DataFrame(kmeans_pt.cluster_centers_.transpose())\n",
    "kmeans_centroids_pt.index = play_tennis_dataset.columns[:-1].tolist()\n",
    "kmeans_centroids_pt.columns = [\"Centroid 1\", \"Centroid 2\"]\n",
    "print(kmeans_centroids_pt)"
   ]
  },
  {
   "cell_type": "code",
   "execution_count": 178,
   "metadata": {},
   "outputs": [
    {
     "name": "stdout",
     "output_type": "stream",
     "text": [
      "Accuracy Score: 0.6666666666666666\n",
      "F1 Score: 0.6666666666666666\n"
     ]
    }
   ],
   "source": [
    "# Evaluate the model\n",
    "kmeans_results_pt = kmeans_pt.predict(pt_testing_data)\n",
    "print(\"Accuracy Score:\", accuracy_score(pt_testing_label, kmeans_results_pt))\n",
    "print(\"F1 Score:\", f1_score(pt_testing_label, kmeans_results_pt, average='macro'))"
   ]
  },
  {
   "cell_type": "markdown",
   "metadata": {},
   "source": [
    "## Logistic Regression"
   ]
  },
  {
   "cell_type": "code",
   "execution_count": 179,
   "metadata": {},
   "outputs": [
    {
     "name": "stdout",
     "output_type": "stream",
     "text": [
      "Breat Cancer\n",
      "                         Coefficient\n",
      "mean radius                 0.811754\n",
      "mean texture               -0.065497\n",
      "mean perimeter              0.005605\n",
      "mean area                   0.014761\n",
      "mean smoothness            -0.145417\n",
      "mean compactness           -0.178002\n",
      "mean concavity             -0.347003\n",
      "mean concave points        -0.220522\n",
      "mean symmetry              -0.142888\n",
      "mean fractal dimension     -0.028602\n",
      "radius error               -0.055970\n",
      "texture error               1.048760\n",
      "perimeter error             0.005760\n",
      "area error                 -0.103339\n",
      "smoothness error           -0.018520\n",
      "compactness error           0.048203\n",
      "concavity error            -0.016115\n",
      "concave points error       -0.031209\n",
      "symmetry error             -0.026582\n",
      "fractal dimension error     0.010018\n",
      "worst radius                0.256574\n",
      "worst texture              -0.340738\n",
      "worst perimeter            -0.274097\n",
      "worst area                 -0.012889\n",
      "worst smoothness           -0.280263\n",
      "worst compactness          -0.561466\n",
      "worst concavity            -1.043677\n",
      "worst concave points       -0.464863\n",
      "worst symmetry             -0.438501\n",
      "worst fractal dimension    -0.086629\n"
     ]
    }
   ],
   "source": [
    "# Breast Cancer\n",
    "print(\"Breat Cancer\")\n",
    "logistic_regression_bc = LogisticRegression(random_state=0, max_iter=2500).fit(bc_training_data, bc_training_label)\n",
    "logistic_regression_results_bc = logistic_regression_bc.predict(bc_testing_data)\n",
    "logistic_regression_koef_bc = pd.DataFrame(logistic_regression_bc.coef_.transpose())\n",
    "logistic_regression_koef_bc.columns = [\"Coefficient\"]\n",
    "logistic_regression_koef_bc.index = breast_cancer_dataset['feature_names'].tolist()\n",
    "print(logistic_regression_koef_bc)"
   ]
  },
  {
   "cell_type": "code",
   "execution_count": 180,
   "metadata": {},
   "outputs": [
    {
     "name": "stdout",
     "output_type": "stream",
     "text": [
      "Accuracy Score: 0.9385964912280702\n",
      "F1 Score: 0.9181286549707601\n"
     ]
    }
   ],
   "source": [
    "# Evaluate the model\n",
    "print(\"Accuracy Score:\", accuracy_score(bc_testing_label, logistic_regression_results_bc))\n",
    "print(\"F1 Score:\", f1_score(bc_testing_label, logistic_regression_results_bc, average='macro'))"
   ]
  },
  {
   "cell_type": "code",
   "execution_count": 181,
   "metadata": {},
   "outputs": [
    {
     "name": "stdout",
     "output_type": "stream",
     "text": [
      "Play Tennis\n",
      "          Coefficient\n",
      "outlook     -0.815711\n",
      "temp         0.223467\n",
      "humidity     0.768774\n",
      "windy       -0.415489\n"
     ]
    }
   ],
   "source": [
    "# Run Logistic Regression\n",
    "print(\"Play Tennis\")\n",
    "logistic_regression_pt = LogisticRegression(random_state=0, max_iter=2500).fit(pt_training_data, pt_training_label)\n",
    "logistic_regression_results_pt = logistic_regression_pt.predict(pt_testing_data)\n",
    "logistic_regression_koef_pt = pd.DataFrame(logistic_regression_pt.coef_.transpose())\n",
    "logistic_regression_koef_pt.columns = [\"Coefficient\"]\n",
    "logistic_regression_koef_pt.index = play_tennis_dataset.columns[:-1].tolist()\n",
    "print(logistic_regression_koef_pt)"
   ]
  },
  {
   "cell_type": "code",
   "execution_count": 182,
   "metadata": {},
   "outputs": [
    {
     "name": "stdout",
     "output_type": "stream",
     "text": [
      "Accuracy Score: 0.6666666666666666\n",
      "F1 Score: 0.4\n"
     ]
    }
   ],
   "source": [
    "# Evaluate the model\n",
    "print(\"Accuracy Score:\", accuracy_score(pt_testing_label, logistic_regression_results_pt))\n",
    "print(\"F1 Score:\", f1_score(pt_testing_label, logistic_regression_results_pt, average='macro'))"
   ]
  },
  {
   "cell_type": "markdown",
   "metadata": {},
   "source": [
    "## Neural Network"
   ]
  },
  {
   "cell_type": "code",
   "execution_count": 183,
   "metadata": {},
   "outputs": [
    {
     "name": "stdout",
     "output_type": "stream",
     "text": [
      "Breast Cancer\n",
      "Hidden Layer 1 coefficients\n",
      "[[-1.48973654e-01 -1.95920649e-01  2.19989904e-01 ... -1.65165993e-01\n",
      "  -1.28673571e-01 -1.96802713e-01]\n",
      " [-5.90939031e-02 -1.94411971e-01 -1.93229695e-01 ...  1.69898942e-01\n",
      "  -2.77885929e-01 -1.94896983e-01]\n",
      " [ 8.05903614e-02  2.80975925e-01  8.61210733e-02 ...  8.16350187e-02\n",
      "   3.67116702e-02  7.36297203e-02]\n",
      " ...\n",
      " [ 1.76151328e-01 -2.22128587e-01 -2.69349741e-01 ...  1.63182511e-01\n",
      "   9.54277277e-02 -1.27913419e-01]\n",
      " [-1.11657495e-01 -1.36189747e-01 -8.60267686e-02 ...  2.19995663e-01\n",
      "   3.47279081e-02 -2.98999062e-04]\n",
      " [ 2.44877817e-01 -2.71973181e-01 -2.67718191e-01 ...  3.08433986e-01\n",
      "   1.26952457e-01 -2.53484110e-01]]\n",
      "Hidden Layer 2 coefficients\n",
      "[[-3.12945465e-01]\n",
      " [ 1.70412612e-01]\n",
      " [ 2.90587745e-01]\n",
      " [-6.99247564e-03]\n",
      " [ 2.45252214e-01]\n",
      " [-2.71048992e-05]\n",
      " [-2.69553947e-15]\n",
      " [ 1.61478519e-01]\n",
      " [ 3.14306538e-01]\n",
      " [-1.46631403e-01]\n",
      " [ 1.85623795e-01]\n",
      " [-7.92993245e-02]\n",
      " [-3.96753838e-02]\n",
      " [-1.30302493e-02]\n",
      " [-2.77763520e-01]\n",
      " [ 2.93019993e-15]\n",
      " [ 2.35463766e-01]\n",
      " [ 4.06931849e-04]\n",
      " [-1.36967220e-04]\n",
      " [ 1.18390387e-01]\n",
      " [-3.73606372e-03]\n",
      " [-3.79869499e-17]\n",
      " [-6.82042423e-02]\n",
      " [-1.00930858e-01]\n",
      " [ 1.60640423e-02]\n",
      " [-1.34624378e-03]\n",
      " [-1.41186400e-01]\n",
      " [ 2.09236073e-01]\n",
      " [ 7.28297702e-02]\n",
      " [-2.16107069e-01]\n",
      " [ 2.61344586e-13]\n",
      " [ 4.03209737e-02]\n",
      " [-6.51288809e-02]\n",
      " [ 5.81334141e-16]\n",
      " [-8.67760596e-04]\n",
      " [-1.35879755e-02]\n",
      " [-1.01018310e-07]\n",
      " [-1.18704378e-03]\n",
      " [-2.60866225e-01]\n",
      " [-7.20520101e-02]\n",
      " [-1.69585648e-01]\n",
      " [-3.26102159e-04]\n",
      " [-1.18245226e-04]\n",
      " [ 8.78634680e-02]\n",
      " [ 2.21361693e-01]\n",
      " [ 4.70339548e-03]\n",
      " [-8.19066919e-02]\n",
      " [-3.20525801e-01]\n",
      " [ 1.17198821e-01]\n",
      " [ 1.54018935e-01]]\n"
     ]
    }
   ],
   "source": [
    "# Create the Model\n",
    "neural_network_bc = MLPClassifier(max_iter=300, hidden_layer_sizes=(50,)).fit(bc_training_data, bc_training_label)\n",
    "neural_network_koef_bc = neural_network_bc.coefs_\n",
    "print(\"Breast Cancer\")\n",
    "print(\"Hidden Layer 1 coefficients\")\n",
    "print(neural_network_koef_bc[0])\n",
    "\n",
    "print(\"Hidden Layer 2 coefficients\")\n",
    "print(neural_network_koef_bc[1])"
   ]
  },
  {
   "cell_type": "code",
   "execution_count": 184,
   "metadata": {},
   "outputs": [
    {
     "name": "stdout",
     "output_type": "stream",
     "text": [
      "Accuracy Score: 0.8771929824561403\n",
      "F1 Score: 0.8449280994947532\n"
     ]
    }
   ],
   "source": [
    "neural_network_results_bc = neural_network_bc.predict(bc_testing_data)\n",
    "print(\"Accuracy Score:\", accuracy_score(bc_testing_label, neural_network_results_bc))\n",
    "print(\"F1 Score:\", f1_score(bc_testing_label, neural_network_results_bc, average='macro'))"
   ]
  },
  {
   "cell_type": "code",
   "execution_count": 185,
   "metadata": {},
   "outputs": [
    {
     "name": "stdout",
     "output_type": "stream",
     "text": [
      "Play Tennis\n",
      "Hidden Layer 1 coefficients\n",
      "[[-1.09104196e-02  7.34276770e-01 -4.43638473e-01  1.38895124e+00\n",
      "  -2.62789138e-01 -5.72249870e-01 -7.78865462e-01 -2.18100138e-01\n",
      "   8.22610551e-25  2.69472702e-01]\n",
      " [ 2.14263941e-22 -9.27662025e-02 -2.94613712e-01  3.94278144e-01\n",
      "   5.27225940e-01 -2.92551812e-01  1.19265215e+00  6.93018969e-01\n",
      "  -7.58349033e-05  1.61128623e-01]\n",
      " [ 1.23731774e-24 -1.53655494e-02  1.55254469e-01 -9.95304121e-01\n",
      "   1.36221449e+00  3.59961209e-01  1.32862269e+00  8.94992813e-01\n",
      "  -1.34780232e-08  6.31101145e-01]\n",
      " [ 1.00413481e-24  6.53090436e-01 -5.86687669e-01  1.38913467e+00\n",
      "  -1.25563859e-01 -8.47921946e-01 -5.94286784e-01 -8.84444565e-01\n",
      "  -1.35802181e-06 -5.09652349e-01]]\n",
      "Hidden Layer 2 coefficients\n",
      "[[-5.92055461e-25]\n",
      " [-5.82298165e-01]\n",
      " [-1.43187576e-01]\n",
      " [-8.93296004e-01]\n",
      " [ 1.21956258e+00]\n",
      " [-4.76189571e-01]\n",
      " [ 5.84793787e-01]\n",
      " [ 6.91847235e-01]\n",
      " [-1.94515477e-26]\n",
      " [ 1.17379887e+00]]\n"
     ]
    },
    {
     "name": "stderr",
     "output_type": "stream",
     "text": [
      "/home/plbu/.local/lib/python3.8/site-packages/sklearn/neural_network/_multilayer_perceptron.py:692: ConvergenceWarning: Stochastic Optimizer: Maximum iterations (1000) reached and the optimization hasn't converged yet.\n",
      "  warnings.warn(\n"
     ]
    }
   ],
   "source": [
    "neural_network_pt = MLPClassifier(max_iter=1000, hidden_layer_sizes=(10,)).fit(pt_training_data, pt_training_label)\n",
    "neural_network_koef_pt = neural_network_pt.coefs_\n",
    "print(\"Play Tennis\")\n",
    "print(\"Hidden Layer 1 coefficients\")\n",
    "print(neural_network_koef_pt[0])\n",
    "\n",
    "print(\"Hidden Layer 2 coefficients\")\n",
    "print(neural_network_koef_pt[1])"
   ]
  },
  {
   "cell_type": "code",
   "execution_count": 186,
   "metadata": {},
   "outputs": [
    {
     "name": "stdout",
     "output_type": "stream",
     "text": [
      "Accuracy Score: 1.0\n",
      "F1 Score: 1.0\n"
     ]
    }
   ],
   "source": [
    "# Evaluate the model\n",
    "neural_network_results_pt = neural_network_pt.predict(pt_testing_data)\n",
    "print(\"Accuracy Score:\", accuracy_score(pt_testing_label, neural_network_results_pt))\n",
    "print(\"F1 Score:\", f1_score(pt_testing_label, neural_network_results_pt, average='macro'))"
   ]
  },
  {
   "cell_type": "markdown",
   "metadata": {},
   "source": [
    "## SVM"
   ]
  },
  {
   "cell_type": "code",
   "execution_count": 187,
   "metadata": {},
   "outputs": [
    {
     "name": "stdout",
     "output_type": "stream",
     "text": [
      "Breast Cancer\n",
      "                         Coeffecient\n",
      "mean radius                -0.085418\n",
      "mean texture                0.512835\n",
      "mean perimeter             -1.119029\n",
      "mean area                   0.086925\n",
      "mean smoothness            -0.013175\n",
      "mean compactness           -0.028192\n",
      "mean concavity             -0.045712\n",
      "mean concave points        -0.020102\n",
      "mean symmetry              -0.038129\n",
      "mean fractal dimension     -0.002567\n",
      "radius error               -0.016242\n",
      "texture error              -0.151182\n",
      "perimeter error             0.210347\n",
      "area error                  0.050727\n",
      "smoothness error           -0.000550\n",
      "compactness error           0.002978\n",
      "concavity error            -0.010398\n",
      "concave points error       -0.003096\n",
      "symmetry error             -0.002752\n",
      "fractal dimension error    -0.000047\n",
      "worst radius               -0.083945\n",
      "worst texture              -0.612404\n",
      "worst perimeter             0.153567\n",
      "worst area                 -0.033117\n",
      "worst smoothness           -0.016473\n",
      "worst compactness          -0.021523\n",
      "worst concavity            -0.067738\n",
      "worst concave points       -0.028323\n",
      "worst symmetry             -0.084212\n",
      "worst fractal dimension    -0.004453\n"
     ]
    }
   ],
   "source": [
    "# Create SVM model\n",
    "svm_bc = SVC(kernel='linear', gamma='auto')\n",
    "svm_bc.fit(bc_testing_data, bc_testing_label)\n",
    "svm_koef_bc = pd.DataFrame(svm_bc.coef_.transpose())\n",
    "svm_koef_bc.index = breast_cancer_dataset['feature_names'].tolist()\n",
    "svm_koef_bc.columns = ['Coeffecient']\n",
    "print(\"Breast Cancer\")\n",
    "print(svm_koef_bc)"
   ]
  },
  {
   "cell_type": "code",
   "execution_count": 188,
   "metadata": {},
   "outputs": [
    {
     "name": "stdout",
     "output_type": "stream",
     "text": [
      "Accuracy score: 1.0\n",
      "F1 score: 1.0\n"
     ]
    }
   ],
   "source": [
    "svm_bc_results = svm_bc.predict(bc_testing_data)\n",
    "\n",
    "print(f\"Accuracy score: {accuracy_score(bc_testing_label, svm_bc_results)}\")\n",
    "print(f\"F1 score: {f1_score(bc_testing_label, svm_bc_results, average='macro')}\")"
   ]
  },
  {
   "cell_type": "code",
   "execution_count": 189,
   "metadata": {},
   "outputs": [
    {
     "name": "stdout",
     "output_type": "stream",
     "text": [
      "Play Tennis\n",
      "          Coeffecient\n",
      "outlook          -1.0\n",
      "temp              0.0\n",
      "humidity          0.0\n",
      "windy             0.0\n"
     ]
    }
   ],
   "source": [
    "# Create SVM model\n",
    "svm_pt = SVC(kernel='linear', gamma='auto').fit(pt_testing_data, pt_testing_label)\n",
    "svm_koef_pt = pd.DataFrame(svm_pt.coef_.transpose())\n",
    "svm_koef_pt.index = play_tennis_dataset.columns[:-1].tolist()\n",
    "svm_koef_pt.columns = ['Coeffecient']\n",
    "\n",
    "# Evaluate the model\n",
    "print(\"Play Tennis\")\n",
    "print(svm_koef_pt)"
   ]
  },
  {
   "cell_type": "code",
   "execution_count": 190,
   "metadata": {},
   "outputs": [
    {
     "name": "stdout",
     "output_type": "stream",
     "text": [
      "Accuracy score: 0.6666666666666666\n",
      "F1 score: 0.4\n"
     ]
    }
   ],
   "source": [
    "svm_pt_results = svm_pt.predict(pt_testing_data)\n",
    "\n",
    "print(f\"Accuracy score: {accuracy_score(pt_testing_label, svm_pt_results)}\")\n",
    "print(f\"F1 score: {f1_score(pt_testing_label, svm_pt_results, average='macro')}\")"
   ]
  }
 ],
 "metadata": {
  "interpreter": {
   "hash": "831e9d60628f49ef695c1224b896fa86c6f72dc359ca6b6e6521097980c4e285"
  },
  "kernelspec": {
   "display_name": "Python 3.10.1 64-bit",
   "language": "python",
   "name": "python3"
  },
  "language_info": {
   "codemirror_mode": {
    "name": "ipython",
    "version": 3
   },
   "file_extension": ".py",
   "mimetype": "text/x-python",
   "name": "python",
   "nbconvert_exporter": "python",
   "pygments_lexer": "ipython3",
   "version": "3.8.10"
  },
  "orig_nbformat": 4
 },
 "nbformat": 4,
 "nbformat_minor": 2
}
