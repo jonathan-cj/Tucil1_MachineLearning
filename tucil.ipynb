{
 "cells": [
  {
   "cell_type": "code",
   "execution_count": 26,
   "metadata": {},
   "outputs": [],
   "source": [
    "import pandas as pd\n",
    "from sklearn import datasets, tree\n",
    "from sklearn.preprocessing import LabelEncoder\n",
    "# from id3 import Id3Estimator, export_text\n",
    "from sklearn.cluster import KMeans\n",
    "from sklearn.neural_network import MLPClassifier\n",
    "from sklearn.metrics import accuracy_score, f1_score\n",
    "\n",
    "# Load the breast cancer dataset\n",
    "breast_cancer_dataset = datasets.load_breast_cancer()\n",
    "\n",
    "# Load the play tennis dataset and encode data\n",
    "play_tennis_dataset = pd.read_csv('./PlayTennis.csv')"
   ]
  },
  {
   "cell_type": "code",
   "execution_count": 27,
   "metadata": {},
   "outputs": [],
   "source": [
    "# Encode play tennis dataset\n",
    "label_encoder = LabelEncoder()\n",
    "\n",
    "play_tennis_dataset_encoded = pd.DataFrame([label_encoder.fit_transform(play_tennis_dataset[column]) for column in play_tennis_dataset.columns]).transpose()\n",
    "play_tennis_dataset_encoded.columns = play_tennis_dataset.columns\n",
    "\n",
    "play_tennis_classes = dict()\n",
    "for column in play_tennis_dataset_encoded.columns:\n",
    "    play_tennis_classes[column] = label_encoder.fit(play_tennis_dataset[column]).classes_\n",
    "\n",
    "play_tennis_labels = play_tennis_dataset_encoded.pop('play')"
   ]
  },
  {
   "cell_type": "code",
   "execution_count": 28,
   "metadata": {},
   "outputs": [],
   "source": [
    "# Parse data into training and testing\n",
    "def parse_data(dataset, label, training_percentage):\n",
    "    training_size = round(len(dataset) * training_percentage)\n",
    "\n",
    "    training_data = dataset[:training_size]\n",
    "    testing_data = dataset[training_size:]\n",
    "\n",
    "    training_label = label[:training_size]\n",
    "    testing_label = label[training_size:]\n",
    "    return training_data, testing_data, training_label, testing_label\n",
    "\n",
    "bc_training_data, bc_testing_data, bc_training_label, bc_testing_label = parse_data(breast_cancer_dataset.data, breast_cancer_dataset.target, 0.8)\n",
    "pt_training_data, pt_testing_data, pt_training_label, pt_testing_label = parse_data(play_tennis_dataset_encoded, play_tennis_labels, 0.8)"
   ]
  },
  {
   "cell_type": "markdown",
   "metadata": {},
   "source": [
    "## Decision Tree Classifier"
   ]
  },
  {
   "cell_type": "code",
   "execution_count": 29,
   "metadata": {},
   "outputs": [
    {
     "name": "stdout",
     "output_type": "stream",
     "text": [
      "|--- worst perimeter <= 106.05\n",
      "|   |--- worst smoothness <= 0.18\n",
      "|   |   |--- worst concave points <= 0.16\n",
      "|   |   |   |--- worst fractal dimension <= 0.06\n",
      "|   |   |   |   |--- class: 0\n",
      "|   |   |   |--- worst fractal dimension >  0.06\n",
      "|   |   |   |   |--- worst texture <= 30.15\n",
      "|   |   |   |   |   |--- area error <= 48.98\n",
      "|   |   |   |   |   |   |--- class: 1\n",
      "|   |   |   |   |   |--- area error >  48.98\n",
      "|   |   |   |   |   |   |--- mean compactness <= 0.06\n",
      "|   |   |   |   |   |   |   |--- class: 0\n",
      "|   |   |   |   |   |   |--- mean compactness >  0.06\n",
      "|   |   |   |   |   |   |   |--- class: 1\n",
      "|   |   |   |   |--- worst texture >  30.15\n",
      "|   |   |   |   |   |--- mean fractal dimension <= 0.06\n",
      "|   |   |   |   |   |   |--- class: 0\n",
      "|   |   |   |   |   |--- mean fractal dimension >  0.06\n",
      "|   |   |   |   |   |   |--- smoothness error <= 0.01\n",
      "|   |   |   |   |   |   |   |--- class: 1\n",
      "|   |   |   |   |   |   |--- smoothness error >  0.01\n",
      "|   |   |   |   |   |   |   |--- mean radius <= 12.38\n",
      "|   |   |   |   |   |   |   |   |--- class: 1\n",
      "|   |   |   |   |   |   |   |--- mean radius >  12.38\n",
      "|   |   |   |   |   |   |   |   |--- class: 0\n",
      "|   |   |--- worst concave points >  0.16\n",
      "|   |   |   |--- smoothness error <= 0.01\n",
      "|   |   |   |   |--- class: 0\n",
      "|   |   |   |--- smoothness error >  0.01\n",
      "|   |   |   |   |--- class: 1\n",
      "|   |--- worst smoothness >  0.18\n",
      "|   |   |--- class: 0\n",
      "|--- worst perimeter >  106.05\n",
      "|   |--- worst perimeter <= 117.45\n",
      "|   |   |--- mean texture <= 19.36\n",
      "|   |   |   |--- mean perimeter <= 91.97\n",
      "|   |   |   |   |--- class: 0\n",
      "|   |   |   |--- mean perimeter >  91.97\n",
      "|   |   |   |   |--- class: 1\n",
      "|   |   |--- mean texture >  19.36\n",
      "|   |   |   |--- worst smoothness <= 0.11\n",
      "|   |   |   |   |--- class: 1\n",
      "|   |   |   |--- worst smoothness >  0.11\n",
      "|   |   |   |   |--- class: 0\n",
      "|   |--- worst perimeter >  117.45\n",
      "|   |   |--- mean concave points <= 0.03\n",
      "|   |   |   |--- class: 1\n",
      "|   |   |--- mean concave points >  0.03\n",
      "|   |   |   |--- class: 0\n",
      "\n"
     ]
    }
   ],
   "source": [
    "# Train model using decision tree\n",
    "tree_decision = tree.DecisionTreeClassifier(random_state=0)\n",
    "tree_decision = tree_decision.fit(bc_training_data, bc_training_label)\n",
    "result = tree.export_text(tree_decision, feature_names=breast_cancer_dataset['feature_names'].tolist())\n",
    "print(result)"
   ]
  },
  {
   "cell_type": "code",
   "execution_count": 30,
   "metadata": {},
   "outputs": [
    {
     "name": "stdout",
     "output_type": "stream",
     "text": [
      "0.8421052631578947\n",
      "0.8044969512195121\n"
     ]
    }
   ],
   "source": [
    "# Predict using the model\n",
    "tree_results = tree_decision.predict(bc_testing_data)\n",
    "\n",
    "# Evaluate the model\n",
    "print(accuracy_score(bc_testing_label, tree_results))\n",
    "print(f1_score(bc_testing_label, tree_results, average='macro'))"
   ]
  },
  {
   "cell_type": "markdown",
   "metadata": {},
   "source": [
    "## Id3 Estimator"
   ]
  },
  {
   "cell_type": "code",
   "execution_count": 31,
   "metadata": {},
   "outputs": [],
   "source": [
    "# id3_estimator = Id3Estimator()\n",
    "# id3_estimator = id3_estimator.fit(training_data, training_label)\n",
    "# id3_tree = export_text(id3_estimator.tree_, breast_cancer_dataset['feature_names'])\n",
    "# print(id3_tree)"
   ]
  },
  {
   "cell_type": "markdown",
   "metadata": {},
   "source": [
    "## K-Means"
   ]
  },
  {
   "cell_type": "code",
   "execution_count": 32,
   "metadata": {},
   "outputs": [
    {
     "name": "stdout",
     "output_type": "stream",
     "text": [
      "0.9122807017543859\n",
      "0.8591897233201581\n"
     ]
    }
   ],
   "source": [
    "# Run K-Means clustering\n",
    "kmeans = KMeans(n_clusters=2, random_state=0).fit(bc_training_data)\n",
    "kmeans_results = kmeans.predict(bc_testing_data)\n",
    "\n",
    "# Evaluate the model\n",
    "print(accuracy_score(bc_testing_label, kmeans_results))\n",
    "print(f1_score(bc_testing_label, kmeans_results, average='macro'))"
   ]
  },
  {
   "cell_type": "markdown",
   "metadata": {},
   "source": [
    "## Neural Network"
   ]
  },
  {
   "cell_type": "code",
   "execution_count": 33,
   "metadata": {},
   "outputs": [
    {
     "name": "stdout",
     "output_type": "stream",
     "text": [
      "0.9035087719298246\n",
      "0.8742352823187243\n"
     ]
    }
   ],
   "source": [
    "neural_network = MLPClassifier(max_iter=300).fit(bc_training_data, bc_training_label)\n",
    "neural_network_results = neural_network.predict(bc_testing_data)\n",
    "# neural_network.score(testing_data, testing_label)\n",
    "\n",
    "# Evaluate the model\n",
    "print(accuracy_score(bc_testing_label, neural_network_results))\n",
    "print(f1_score(bc_testing_label, neural_network_results, average='macro'))"
   ]
  }
 ],
 "metadata": {
  "interpreter": {
   "hash": "831e9d60628f49ef695c1224b896fa86c6f72dc359ca6b6e6521097980c4e285"
  },
  "kernelspec": {
   "display_name": "Python 3.10.1 64-bit",
   "language": "python",
   "name": "python3"
  },
  "language_info": {
   "codemirror_mode": {
    "name": "ipython",
    "version": 3
   },
   "file_extension": ".py",
   "mimetype": "text/x-python",
   "name": "python",
   "nbconvert_exporter": "python",
   "pygments_lexer": "ipython3",
   "version": "3.10.1"
  },
  "orig_nbformat": 4
 },
 "nbformat": 4,
 "nbformat_minor": 2
}
