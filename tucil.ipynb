{
 "cells": [
  {
   "cell_type": "markdown",
   "metadata": {},
   "source": [
    "# Tucil 1 Machine Learning dengan Library Python\n",
    "## 13519114 Renaldi Arlin\n",
    "## 13519144 Jonathan Christhoper Jahja"
   ]
  },
  {
   "cell_type": "code",
   "execution_count": 349,
   "metadata": {},
   "outputs": [
    {
     "name": "stdout",
     "output_type": "stream",
     "text": [
      "569\n"
     ]
    }
   ],
   "source": [
    "# Import dataset library\n",
    "import pandas as pd\n",
    "from sklearn import datasets\n",
    "from sklearn.preprocessing import LabelEncoder\n",
    "\n",
    "# Import Plot library\n",
    "%matplotlib inline\n",
    "import matplotlib.pyplot as plt\n",
    "\n",
    "# Import algorithm library\n",
    "from sklearn import tree\n",
    "import six\n",
    "import sys\n",
    "sys.modules['sklearn.externals.six'] = six\n",
    "from id3 import Id3Estimator, export_text\n",
    "from sklearn.cluster import KMeans\n",
    "from sklearn.neural_network import MLPClassifier\n",
    "from sklearn.metrics import accuracy_score, f1_score\n",
    "from sklearn.linear_model import LogisticRegression\n",
    "from sklearn.pipeline import make_pipeline\n",
    "from sklearn.preprocessing import StandardScaler\n",
    "from sklearn.svm import SVC\n",
    "\n",
    "# Load the breast cancer dataset\n",
    "breast_cancer_dataset = datasets.load_breast_cancer()\n",
    "\n",
    "# Load the play tennis dataset and encode data\n",
    "play_tennis_dataset = pd.read_csv('./PlayTennis.csv')\n",
    "\n",
    "# Initiate accuracy and f1 scores array\n",
    "bc_accuracy_scores = dict()\n",
    "bc_f1_scores = dict()\n",
    "pt_accuracy_scores = dict()\n",
    "pt_f1_scores = dict()"
   ]
  },
  {
   "cell_type": "code",
   "execution_count": 320,
   "metadata": {},
   "outputs": [],
   "source": [
    "# Encode play tennis dataset\n",
    "label_encoder = LabelEncoder()\n",
    "\n",
    "play_tennis_dataset_encoded = pd.DataFrame([label_encoder.fit_transform(play_tennis_dataset[column]) for column in play_tennis_dataset.columns]).transpose()\n",
    "play_tennis_dataset_encoded.columns = play_tennis_dataset.columns\n",
    "\n",
    "play_tennis_classes = dict()\n",
    "for column in play_tennis_dataset_encoded.columns:\n",
    "    play_tennis_classes[column] = label_encoder.fit(play_tennis_dataset[column]).classes_\n",
    "\n",
    "play_tennis_labels = play_tennis_dataset_encoded.pop('play')"
   ]
  },
  {
   "cell_type": "code",
   "execution_count": 321,
   "metadata": {},
   "outputs": [],
   "source": [
    "# Parse data into training and testing\n",
    "def parse_data(dataset, label, training_percentage):\n",
    "    training_size = round(len(dataset) * training_percentage)\n",
    "\n",
    "    training_data = dataset[:training_size]\n",
    "    testing_data = dataset[training_size:]\n",
    "\n",
    "    training_label = label[:training_size]\n",
    "    testing_label = label[training_size:]\n",
    "    return training_data, testing_data, training_label, testing_label\n",
    "\n",
    "bc_training_data, bc_testing_data, bc_training_label, bc_testing_label = parse_data(breast_cancer_dataset.data, breast_cancer_dataset.target, 0.8)\n",
    "pt_training_data, pt_testing_data, pt_training_label, pt_testing_label = parse_data(play_tennis_dataset_encoded, play_tennis_labels, 0.8)"
   ]
  },
  {
   "cell_type": "markdown",
   "metadata": {},
   "source": [
    "## Decision Tree Classifier\n",
    "\n",
    "Parameter yang digunakan:\n",
    "- random_state: 0"
   ]
  },
  {
   "cell_type": "code",
   "execution_count": 322,
   "metadata": {},
   "outputs": [
    {
     "name": "stdout",
     "output_type": "stream",
     "text": [
      "Breast Cancer\n",
      "|--- worst perimeter <= 106.05\n",
      "|   |--- worst smoothness <= 0.18\n",
      "|   |   |--- worst concave points <= 0.16\n",
      "|   |   |   |--- worst fractal dimension <= 0.06\n",
      "|   |   |   |   |--- class: 0\n",
      "|   |   |   |--- worst fractal dimension >  0.06\n",
      "|   |   |   |   |--- worst texture <= 30.15\n",
      "|   |   |   |   |   |--- area error <= 48.98\n",
      "|   |   |   |   |   |   |--- class: 1\n",
      "|   |   |   |   |   |--- area error >  48.98\n",
      "|   |   |   |   |   |   |--- mean compactness <= 0.06\n",
      "|   |   |   |   |   |   |   |--- class: 0\n",
      "|   |   |   |   |   |   |--- mean compactness >  0.06\n",
      "|   |   |   |   |   |   |   |--- class: 1\n",
      "|   |   |   |   |--- worst texture >  30.15\n",
      "|   |   |   |   |   |--- mean fractal dimension <= 0.06\n",
      "|   |   |   |   |   |   |--- class: 0\n",
      "|   |   |   |   |   |--- mean fractal dimension >  0.06\n",
      "|   |   |   |   |   |   |--- smoothness error <= 0.01\n",
      "|   |   |   |   |   |   |   |--- class: 1\n",
      "|   |   |   |   |   |   |--- smoothness error >  0.01\n",
      "|   |   |   |   |   |   |   |--- mean radius <= 12.38\n",
      "|   |   |   |   |   |   |   |   |--- class: 1\n",
      "|   |   |   |   |   |   |   |--- mean radius >  12.38\n",
      "|   |   |   |   |   |   |   |   |--- class: 0\n",
      "|   |   |--- worst concave points >  0.16\n",
      "|   |   |   |--- smoothness error <= 0.01\n",
      "|   |   |   |   |--- class: 0\n",
      "|   |   |   |--- smoothness error >  0.01\n",
      "|   |   |   |   |--- class: 1\n",
      "|   |--- worst smoothness >  0.18\n",
      "|   |   |--- class: 0\n",
      "|--- worst perimeter >  106.05\n",
      "|   |--- worst perimeter <= 117.45\n",
      "|   |   |--- mean texture <= 19.36\n",
      "|   |   |   |--- mean perimeter <= 91.97\n",
      "|   |   |   |   |--- class: 0\n",
      "|   |   |   |--- mean perimeter >  91.97\n",
      "|   |   |   |   |--- class: 1\n",
      "|   |   |--- mean texture >  19.36\n",
      "|   |   |   |--- worst smoothness <= 0.11\n",
      "|   |   |   |   |--- class: 1\n",
      "|   |   |   |--- worst smoothness >  0.11\n",
      "|   |   |   |   |--- class: 0\n",
      "|   |--- worst perimeter >  117.45\n",
      "|   |   |--- mean concave points <= 0.03\n",
      "|   |   |   |--- class: 1\n",
      "|   |   |--- mean concave points >  0.03\n",
      "|   |   |   |--- class: 0\n",
      "\n"
     ]
    }
   ],
   "source": [
    "# Breast Cancer\n",
    "print(\"Breast Cancer\")\n",
    "tree_decision_bc = tree.DecisionTreeClassifier(random_state=0)\n",
    "tree_decision_bc = tree_decision_bc.fit(bc_training_data, bc_training_label)\n",
    "result = tree.export_text(tree_decision_bc, feature_names=breast_cancer_dataset['feature_names'].tolist())\n",
    "print(result)"
   ]
  },
  {
   "cell_type": "code",
   "execution_count": 323,
   "metadata": {},
   "outputs": [
    {
     "name": "stdout",
     "output_type": "stream",
     "text": [
      "Accuracy Score: 0.8421052631578947\n",
      "F1 Score: 0.8044969512195121\n"
     ]
    }
   ],
   "source": [
    "# Evaluate the model\n",
    "tree_results_bc = tree_decision_bc.predict(bc_testing_data)\n",
    "print(\"Accuracy Score:\", accuracy_score(bc_testing_label, tree_results_bc))\n",
    "print(\"F1 Score:\", f1_score(bc_testing_label, tree_results_bc, average='macro'))\n",
    "\n",
    "bc_accuracy_scores['decision_tree'] = accuracy_score(bc_testing_label, tree_results_bc)\n",
    "bc_f1_scores['decision_tree'] = f1_score(bc_testing_label, tree_results_bc, average='macro')"
   ]
  },
  {
   "cell_type": "code",
   "execution_count": 324,
   "metadata": {},
   "outputs": [
    {
     "name": "stdout",
     "output_type": "stream",
     "text": [
      "Play Tennis\n",
      "|--- outlook <= 1.50\n",
      "|   |--- windy <= 0.50\n",
      "|   |   |--- class: 1\n",
      "|   |--- windy >  0.50\n",
      "|   |   |--- outlook <= 0.50\n",
      "|   |   |   |--- class: 1\n",
      "|   |   |--- outlook >  0.50\n",
      "|   |   |   |--- class: 0\n",
      "|--- outlook >  1.50\n",
      "|   |--- humidity <= 0.50\n",
      "|   |   |--- class: 0\n",
      "|   |--- humidity >  0.50\n",
      "|   |   |--- class: 1\n",
      "\n"
     ]
    }
   ],
   "source": [
    "# Play Tennis\n",
    "print(\"Play Tennis\")\n",
    "tree_decision_pt = tree.DecisionTreeClassifier(random_state=0)\n",
    "tree_decision_pt = tree_decision_pt.fit(pt_training_data, pt_training_label)\n",
    "result = tree.export_text(tree_decision_pt, feature_names=play_tennis_dataset.columns[:-1].tolist())\n",
    "print(result)"
   ]
  },
  {
   "cell_type": "code",
   "execution_count": 325,
   "metadata": {},
   "outputs": [
    {
     "name": "stdout",
     "output_type": "stream",
     "text": [
      "Accuracy Score: 1.0\n",
      "F1 Score: 1.0\n"
     ]
    }
   ],
   "source": [
    "# Evaluate the model\n",
    "tree_results_pt = tree_decision_pt.predict(pt_testing_data)\n",
    "print(\"Accuracy Score:\", accuracy_score(pt_testing_label, tree_results_pt))\n",
    "print(\"F1 Score:\", f1_score(pt_testing_label, tree_results_pt, average='macro'))\n",
    "\n",
    "pt_accuracy_scores['decision_tree'] = accuracy_score(pt_testing_label, tree_results_pt)\n",
    "pt_f1_scores['decision_tree'] = f1_score(pt_testing_label, tree_results_pt, average='macro')"
   ]
  },
  {
   "cell_type": "markdown",
   "metadata": {},
   "source": [
    "## ID3 Estimator\n",
    "Parameter yang digunakan: -"
   ]
  },
  {
   "cell_type": "code",
   "execution_count": 326,
   "metadata": {},
   "outputs": [
    {
     "name": "stdout",
     "output_type": "stream",
     "text": [
      "Breast Cancer\n",
      "\n",
      "worst perimeter <=106.05\n",
      "|   worst concave points <=0.13\n",
      "|   |   area error <=48.97\n",
      "|   |   |   worst texture <=30.15: 1 (222) \n",
      "|   |   |   worst texture >30.15\n",
      "|   |   |   |   mean radius <=12.69: 1 (14) \n",
      "|   |   |   |   mean radius >12.69\n",
      "|   |   |   |   |   compactness error <=0.01: 0 (2) \n",
      "|   |   |   |   |   compactness error >0.01: 1 (4) \n",
      "|   |   area error >48.97\n",
      "|   |   |   mean smoothness <=0.09: 1 (2) \n",
      "|   |   |   mean smoothness >0.09: 0 (2) \n",
      "|   worst concave points >0.13\n",
      "|   |   worst texture <=23.47: 1 (6) \n",
      "|   |   worst texture >23.47\n",
      "|   |   |   worst symmetry <=0.29\n",
      "|   |   |   |   mean radius <=14.13: 1 (3) \n",
      "|   |   |   |   mean radius >14.13: 0 (1) \n",
      "|   |   |   worst symmetry >0.29: 0 (11) \n",
      "worst perimeter >106.05\n",
      "|   worst radius <=18.22\n",
      "|   |   worst smoothness <=0.14\n",
      "|   |   |   mean texture <=22.26\n",
      "|   |   |   |   worst texture <=28.82: 1 (17) \n",
      "|   |   |   |   worst texture >28.82\n",
      "|   |   |   |   |   mean compactness <=0.10: 0 (2) \n",
      "|   |   |   |   |   mean compactness >0.10: 1 (1) \n",
      "|   |   |   mean texture >22.26: 0 (7) \n",
      "|   |   worst smoothness >0.14: 0 (31) \n",
      "|   worst radius >18.22: 0 (130) \n",
      "\n"
     ]
    }
   ],
   "source": [
    "id3_estimator = Id3Estimator()\n",
    "# Breast Cancer\n",
    "id3_estimator = id3_estimator.fit(bc_training_data, bc_training_label)\n",
    "id3_tree = export_text(id3_estimator.tree_, breast_cancer_dataset['feature_names'])\n",
    "print(\"Breast Cancer\")\n",
    "print(id3_tree)"
   ]
  },
  {
   "cell_type": "code",
   "execution_count": 327,
   "metadata": {},
   "outputs": [
    {
     "name": "stdout",
     "output_type": "stream",
     "text": [
      "Accuracy Score: 0.9210526315789473\n",
      "F1 Score: 0.8971015946244107\n"
     ]
    }
   ],
   "source": [
    "# Evaluate the model\n",
    "id3_results_bc = id3_estimator.predict(bc_testing_data)\n",
    "print(\"Accuracy Score:\", accuracy_score(bc_testing_label, id3_results_bc))\n",
    "print(\"F1 Score:\", f1_score(bc_testing_label, id3_results_bc, average='macro'))\n",
    "\n",
    "bc_accuracy_scores['id3'] = accuracy_score(bc_testing_label, id3_results_bc)\n",
    "bc_f1_scores['id3'] = f1_score(bc_testing_label, id3_results_bc, average='macro')"
   ]
  },
  {
   "cell_type": "code",
   "execution_count": 328,
   "metadata": {},
   "outputs": [
    {
     "name": "stdout",
     "output_type": "stream",
     "text": [
      "Play Tennis\n",
      "\n",
      "outlook <=1.50\n",
      "|   windy <=0.50: 1 (4) \n",
      "|   windy >0.50: 0 (1/1) \n",
      "outlook >1.50\n",
      "|   humidity <=0.50: 0 (3) \n",
      "|   humidity >0.50: 1 (2) \n",
      "\n"
     ]
    }
   ],
   "source": [
    "# Play Tennis\n",
    "id3_estimator = id3_estimator.fit(pt_training_data, pt_training_label)\n",
    "id3_tree_pt = export_text(id3_estimator.tree_, feature_names=play_tennis_dataset.columns[:-1].tolist())\n",
    "print(\"Play Tennis\")\n",
    "print(id3_tree_pt)\n"
   ]
  },
  {
   "cell_type": "code",
   "execution_count": 329,
   "metadata": {},
   "outputs": [
    {
     "name": "stdout",
     "output_type": "stream",
     "text": [
      "Accuracy Score: 0.6666666666666666\n",
      "F1 Score: 0.6666666666666666\n"
     ]
    }
   ],
   "source": [
    "# Evaluate the model\n",
    "id3_results_pt = id3_estimator.predict(pt_testing_data)\n",
    "print(\"Accuracy Score:\", accuracy_score(pt_testing_label, id3_results_pt))\n",
    "print(\"F1 Score:\", f1_score(pt_testing_label, id3_results_pt, average='macro'))\n",
    "\n",
    "pt_accuracy_scores['id3'] = accuracy_score(pt_testing_label, id3_results_pt)\n",
    "pt_f1_scores['id3'] = f1_score(pt_testing_label, id3_results_pt, average='macro')"
   ]
  },
  {
   "cell_type": "markdown",
   "metadata": {},
   "source": [
    "## K-Means\n",
    "Parameter yang digunakan:\n",
    "* n_cluster: 2\n",
    "* random_state: 0"
   ]
  },
  {
   "cell_type": "code",
   "execution_count": 330,
   "metadata": {},
   "outputs": [
    {
     "name": "stdout",
     "output_type": "stream",
     "text": [
      "Breast Cancer\n",
      "                          Centroid 1  Centroid 2\n",
      "mean radius                19.222478   12.587553\n",
      "mean texture               21.637257   18.114649\n",
      "mean perimeter            127.108850   81.335819\n",
      "mean area                1164.976106  498.400585\n",
      "mean smoothness             0.101174    0.094907\n",
      "mean compactness            0.147851    0.090839\n",
      "mean concavity              0.173736    0.064169\n",
      "mean concave points         0.099197    0.034212\n",
      "mean symmetry               0.192082    0.179094\n",
      "mean fractal dimension      0.060460    0.063360\n",
      "radius error                0.718746    0.309820\n",
      "texture error               1.218749    1.195348\n",
      "perimeter error             5.091000    2.180759\n",
      "area error                 91.098673   24.335713\n",
      "smoothness error            0.006624    0.007115\n",
      "compactness error           0.032062    0.023753\n",
      "concavity error             0.042033    0.029298\n",
      "concave points error        0.015471    0.010760\n",
      "symmetry error              0.020625    0.021047\n",
      "fractal dimension error     0.003910    0.003774\n",
      "worst radius               23.543805   14.106199\n",
      "worst texture              28.990973   24.228187\n",
      "worst perimeter           157.214159   92.317427\n",
      "worst area               1727.044248  625.180409\n",
      "worst smoothness            0.141291    0.129660\n",
      "worst compactness           0.360365    0.224207\n",
      "worst concavity             0.449987    0.221810\n",
      "worst concave points        0.192116    0.092466\n",
      "worst symmetry              0.316540    0.286665\n",
      "worst fractal dimension     0.086298    0.083261\n"
     ]
    }
   ],
   "source": [
    "# Run K-Means clustering\n",
    "# Breast Cancer\n",
    "kmeans_bc = KMeans(n_clusters=2, random_state=0).fit(bc_training_data)\n",
    "\n",
    "print(\"Breast Cancer\")\n",
    "kmeans_centroids_bc = pd.DataFrame(kmeans_bc.cluster_centers_.transpose())\n",
    "kmeans_centroids_bc.index = breast_cancer_dataset['feature_names'].tolist()\n",
    "kmeans_centroids_bc.columns = [\"Centroid 1\", \"Centroid 2\"]\n",
    "print(kmeans_centroids_bc)"
   ]
  },
  {
   "cell_type": "code",
   "execution_count": 331,
   "metadata": {},
   "outputs": [
    {
     "name": "stdout",
     "output_type": "stream",
     "text": [
      "Accuracy Score: 0.9122807017543859\n",
      "F1 Score: 0.8591897233201581\n"
     ]
    }
   ],
   "source": [
    "# Evaluate the model\n",
    "kmeans_results_bc = kmeans_bc.predict(bc_testing_data)\n",
    "print(\"Accuracy Score:\", accuracy_score(bc_testing_label, kmeans_results_bc))\n",
    "print(\"F1 Score:\", f1_score(bc_testing_label, kmeans_results_bc, average='macro'))\n",
    "\n",
    "bc_accuracy_scores['kmeans'] = accuracy_score(bc_testing_label, kmeans_results_bc)\n",
    "bc_f1_scores['kmeans'] = f1_score(bc_testing_label, kmeans_results_bc, average='macro')"
   ]
  },
  {
   "cell_type": "code",
   "execution_count": 332,
   "metadata": {},
   "outputs": [
    {
     "name": "stdout",
     "output_type": "stream",
     "text": [
      "Play Tennis\n",
      "          Centroid 1  Centroid 2\n",
      "outlook     1.666667         0.8\n",
      "temp        1.666667         0.2\n",
      "humidity    0.333333         0.8\n",
      "windy       0.333333         0.4\n"
     ]
    }
   ],
   "source": [
    "# Run K-Means clustering\n",
    "# Play Tennis\n",
    "kmeans_pt = KMeans(n_clusters=2, random_state=0).fit(pt_training_data)\n",
    "\n",
    "print(\"Play Tennis\")\n",
    "kmeans_centroids_pt = pd.DataFrame(kmeans_pt.cluster_centers_.transpose())\n",
    "kmeans_centroids_pt.index = play_tennis_dataset.columns[:-1].tolist()\n",
    "kmeans_centroids_pt.columns = [\"Centroid 1\", \"Centroid 2\"]\n",
    "print(kmeans_centroids_pt)"
   ]
  },
  {
   "cell_type": "code",
   "execution_count": 333,
   "metadata": {},
   "outputs": [
    {
     "name": "stdout",
     "output_type": "stream",
     "text": [
      "Accuracy Score: 0.6666666666666666\n",
      "F1 Score: 0.6666666666666666\n"
     ]
    }
   ],
   "source": [
    "# Evaluate the model\n",
    "kmeans_results_pt = kmeans_pt.predict(pt_testing_data)\n",
    "print(\"Accuracy Score:\", accuracy_score(pt_testing_label, kmeans_results_pt))\n",
    "print(\"F1 Score:\", f1_score(pt_testing_label, kmeans_results_pt, average='macro'))\n",
    "\n",
    "pt_accuracy_scores['kmeans'] = accuracy_score(pt_testing_label, kmeans_results_pt)\n",
    "pt_f1_scores['kmeans'] = f1_score(pt_testing_label, kmeans_results_pt, average='macro')"
   ]
  },
  {
   "cell_type": "markdown",
   "metadata": {},
   "source": [
    "## Logistic Regression\n",
    "Parameter yang digunakan:\n",
    "* random_state: 0\n",
    "* max_iter: 2500"
   ]
  },
  {
   "cell_type": "code",
   "execution_count": 334,
   "metadata": {},
   "outputs": [
    {
     "name": "stdout",
     "output_type": "stream",
     "text": [
      "Breat Cancer\n",
      "                         Coefficient\n",
      "mean radius                 0.811754\n",
      "mean texture               -0.065497\n",
      "mean perimeter              0.005605\n",
      "mean area                   0.014761\n",
      "mean smoothness            -0.145417\n",
      "mean compactness           -0.178002\n",
      "mean concavity             -0.347003\n",
      "mean concave points        -0.220522\n",
      "mean symmetry              -0.142888\n",
      "mean fractal dimension     -0.028602\n",
      "radius error               -0.055970\n",
      "texture error               1.048760\n",
      "perimeter error             0.005760\n",
      "area error                 -0.103339\n",
      "smoothness error           -0.018520\n",
      "compactness error           0.048203\n",
      "concavity error            -0.016115\n",
      "concave points error       -0.031209\n",
      "symmetry error             -0.026582\n",
      "fractal dimension error     0.010018\n",
      "worst radius                0.256574\n",
      "worst texture              -0.340738\n",
      "worst perimeter            -0.274097\n",
      "worst area                 -0.012889\n",
      "worst smoothness           -0.280263\n",
      "worst compactness          -0.561466\n",
      "worst concavity            -1.043677\n",
      "worst concave points       -0.464863\n",
      "worst symmetry             -0.438501\n",
      "worst fractal dimension    -0.086629\n"
     ]
    }
   ],
   "source": [
    "# Breast Cancer\n",
    "print(\"Breat Cancer\")\n",
    "logistic_regression_bc = LogisticRegression(random_state=0, max_iter=2500).fit(bc_training_data, bc_training_label)\n",
    "logistic_regression_results_bc = logistic_regression_bc.predict(bc_testing_data)\n",
    "logistic_regression_koef_bc = pd.DataFrame(logistic_regression_bc.coef_.transpose())\n",
    "logistic_regression_koef_bc.columns = [\"Coefficient\"]\n",
    "logistic_regression_koef_bc.index = breast_cancer_dataset['feature_names'].tolist()\n",
    "print(logistic_regression_koef_bc)"
   ]
  },
  {
   "cell_type": "code",
   "execution_count": 335,
   "metadata": {},
   "outputs": [
    {
     "name": "stdout",
     "output_type": "stream",
     "text": [
      "Accuracy Score: 0.9385964912280702\n",
      "F1 Score: 0.9181286549707601\n"
     ]
    }
   ],
   "source": [
    "# Evaluate the model\n",
    "print(\"Accuracy Score:\", accuracy_score(bc_testing_label, logistic_regression_results_bc))\n",
    "print(\"F1 Score:\", f1_score(bc_testing_label, logistic_regression_results_bc, average='macro'))\n",
    "\n",
    "bc_accuracy_scores['logistic_regression'] = accuracy_score(bc_testing_label, logistic_regression_results_bc)\n",
    "bc_f1_scores['logistic_regression'] = f1_score(bc_testing_label, logistic_regression_results_bc, average='macro')"
   ]
  },
  {
   "cell_type": "code",
   "execution_count": 336,
   "metadata": {},
   "outputs": [
    {
     "name": "stdout",
     "output_type": "stream",
     "text": [
      "Play Tennis\n",
      "          Coefficient\n",
      "outlook     -0.815711\n",
      "temp         0.223467\n",
      "humidity     0.768774\n",
      "windy       -0.415489\n"
     ]
    }
   ],
   "source": [
    "# Run Logistic Regression\n",
    "print(\"Play Tennis\")\n",
    "logistic_regression_pt = LogisticRegression(random_state=0, max_iter=2500).fit(pt_training_data, pt_training_label)\n",
    "logistic_regression_results_pt = logistic_regression_pt.predict(pt_testing_data)\n",
    "logistic_regression_koef_pt = pd.DataFrame(logistic_regression_pt.coef_.transpose())\n",
    "logistic_regression_koef_pt.columns = [\"Coefficient\"]\n",
    "logistic_regression_koef_pt.index = play_tennis_dataset.columns[:-1].tolist()\n",
    "print(logistic_regression_koef_pt)"
   ]
  },
  {
   "cell_type": "code",
   "execution_count": 337,
   "metadata": {},
   "outputs": [
    {
     "name": "stdout",
     "output_type": "stream",
     "text": [
      "Accuracy Score: 0.6666666666666666\n",
      "F1 Score: 0.4\n"
     ]
    }
   ],
   "source": [
    "# Evaluate the model\n",
    "print(\"Accuracy Score:\", accuracy_score(pt_testing_label, logistic_regression_results_pt))\n",
    "print(\"F1 Score:\", f1_score(pt_testing_label, logistic_regression_results_pt, average='macro'))\n",
    "\n",
    "pt_accuracy_scores['logistic_regression'] = accuracy_score(pt_testing_label, logistic_regression_results_pt)\n",
    "pt_f1_scores['logistic_regression'] = f1_score(pt_testing_label, logistic_regression_results_pt, average='macro')"
   ]
  },
  {
   "cell_type": "markdown",
   "metadata": {},
   "source": [
    "## Neural Network\n",
    "Parameter yang digunakan:\n",
    "* max_iter: 300\n",
    "* hidden_layer_sizes: 50"
   ]
  },
  {
   "cell_type": "code",
   "execution_count": 338,
   "metadata": {},
   "outputs": [
    {
     "name": "stdout",
     "output_type": "stream",
     "text": [
      "Breast Cancer\n",
      "Hidden Layer 1 coefficients\n",
      "[[ 2.65884227e-02 -1.43965720e-01  1.02346571e-01 ...  1.39872453e-02\n",
      "   6.07972660e-02 -1.50893333e-02]\n",
      " [-4.62259521e-02  1.10530561e-01  4.78101809e-02 ... -7.85354225e-03\n",
      "   6.27716013e-02  1.19160724e-02]\n",
      " [-1.26675682e-01 -1.14976399e-01  2.05412439e-01 ... -5.77358713e-10\n",
      "   2.47301724e-01 -1.01139660e-08]\n",
      " ...\n",
      " [ 2.70599887e-01  2.42809377e-01 -1.03253205e-01 ...  1.24460804e-02\n",
      "   3.09069452e-02 -1.72304392e-06]\n",
      " [ 1.02048473e-03 -1.88459256e-02  2.62254431e-01 ... -1.38568592e-07\n",
      "  -1.33822978e-01  9.61464375e-09]\n",
      " [ 7.92120575e-02 -1.41628992e-01  6.67759452e-02 ... -1.36589997e-06\n",
      "  -2.00548919e-01  4.61164863e-02]]\n",
      "Hidden Layer 2 coefficients\n",
      "[[-2.21755369e-01]\n",
      " [-1.28041121e-01]\n",
      " [ 5.15978323e-02]\n",
      " [ 8.07323676e-04]\n",
      " [ 8.01217883e-09]\n",
      " [ 7.20349865e-03]\n",
      " [ 1.29319168e-02]\n",
      " [ 1.30018550e-01]\n",
      " [ 4.90136015e-11]\n",
      " [-5.38797743e-10]\n",
      " [-5.23584174e-09]\n",
      " [-8.51043487e-02]\n",
      " [-2.45839292e-01]\n",
      " [-9.22423353e-09]\n",
      " [ 3.14837060e-01]\n",
      " [-2.16639817e-08]\n",
      " [-3.30066540e-01]\n",
      " [-2.29314296e-06]\n",
      " [ 2.42340941e-01]\n",
      " [-2.15080879e-01]\n",
      " [-6.37459420e-02]\n",
      " [ 3.64475519e-02]\n",
      " [ 1.96297563e-01]\n",
      " [ 3.01841174e-01]\n",
      " [ 1.13981997e-01]\n",
      " [-9.23563163e-02]\n",
      " [ 1.86376464e-01]\n",
      " [-9.78521843e-11]\n",
      " [-4.72895725e-02]\n",
      " [-1.97137373e-04]\n",
      " [ 2.05099967e-03]\n",
      " [-1.50526173e-02]\n",
      " [ 2.00447892e-01]\n",
      " [-2.68299044e-01]\n",
      " [-1.93891411e-01]\n",
      " [ 2.67806269e-03]\n",
      " [ 2.05391039e-04]\n",
      " [ 2.44864374e-01]\n",
      " [ 7.82729672e-03]\n",
      " [-3.31396801e-01]\n",
      " [ 7.38739775e-02]\n",
      " [-1.07929980e-02]\n",
      " [ 2.10598635e-01]\n",
      " [-1.84595873e-03]\n",
      " [-1.80122714e-01]\n",
      " [ 2.06987103e-02]\n",
      " [ 7.88475804e-02]\n",
      " [ 1.79178233e-03]\n",
      " [ 3.48884447e-01]\n",
      " [ 2.60078319e-02]]\n"
     ]
    }
   ],
   "source": [
    "# Create the Model\n",
    "neural_network_bc = MLPClassifier(max_iter=1000, hidden_layer_sizes=(50,)).fit(bc_training_data, bc_training_label)\n",
    "neural_network_koef_bc = neural_network_bc.coefs_\n",
    "print(\"Breast Cancer\")\n",
    "print(\"Hidden Layer 1 coefficients\")\n",
    "print(neural_network_koef_bc[0])\n",
    "\n",
    "print(\"Hidden Layer 2 coefficients\")\n",
    "print(neural_network_koef_bc[1])"
   ]
  },
  {
   "cell_type": "code",
   "execution_count": 339,
   "metadata": {},
   "outputs": [
    {
     "name": "stdout",
     "output_type": "stream",
     "text": [
      "Accuracy Score: 0.9385964912280702\n",
      "F1 Score: 0.916132422490804\n"
     ]
    }
   ],
   "source": [
    "neural_network_results_bc = neural_network_bc.predict(bc_testing_data)\n",
    "print(\"Accuracy Score:\", accuracy_score(bc_testing_label, neural_network_results_bc))\n",
    "print(\"F1 Score:\", f1_score(bc_testing_label, neural_network_results_bc, average='macro'))\n",
    "\n",
    "bc_accuracy_scores['neural_network'] = accuracy_score(bc_testing_label, neural_network_results_bc)\n",
    "bc_f1_scores['neural_network'] = f1_score(bc_testing_label, neural_network_results_bc, average='macro')"
   ]
  },
  {
   "cell_type": "code",
   "execution_count": 340,
   "metadata": {},
   "outputs": [
    {
     "name": "stdout",
     "output_type": "stream",
     "text": [
      "Play Tennis\n",
      "Hidden Layer 1 coefficients\n",
      "[[ 1.90323079e-01 -2.40097770e-01  3.80530071e-01  4.65169648e-01\n",
      "  -1.72723774e-01 -2.82095476e-01  4.20052684e-01 -1.23015379e-01\n",
      "  -4.07053796e-01  9.11194332e-02  3.08412870e-01 -1.99990190e-01\n",
      "  -8.73168254e-02 -3.70271690e-01 -2.05361682e-01 -1.59048108e-01\n",
      "  -5.87456210e-01  3.32716049e-03 -1.30807429e-03  6.26644672e-01\n",
      "  -3.01794342e-02 -2.31894788e-01  5.96197349e-01 -1.88492934e-01\n",
      "   3.50563979e-01 -3.62725731e-01 -5.57062786e-01 -2.29876506e-01\n",
      "  -5.79523176e-04 -5.13722697e-01 -2.86390822e-02  6.67709290e-01\n",
      "   3.35426019e-01  4.67541520e-01  1.75026480e-01  5.19663791e-01\n",
      "   4.47866814e-01 -2.74613046e-01 -1.60221073e-05  3.43658257e-01\n",
      "  -3.92632054e-01 -2.91463174e-01 -3.87465985e-01  5.39572839e-01\n",
      "  -5.18435605e-01  1.14943300e-12 -2.49183251e-01  3.05837087e-01\n",
      "   1.11534513e-01 -3.97830719e-02]\n",
      " [-1.15208504e-01  3.21800827e-05 -1.35326352e-01 -6.14489912e-01\n",
      "  -5.42551402e-02 -6.53798694e-02 -1.22238289e-01  4.49197319e-01\n",
      "  -1.55154324e-01 -3.50434806e-01 -1.26925022e-02 -1.72919619e-01\n",
      "  -3.01294037e-05  5.04014724e-01  2.18653974e-01  2.85256781e-01\n",
      "   7.17513424e-01 -1.77618076e-01 -8.97678954e-04 -2.12769362e-01\n",
      "  -5.03348639e-01  4.19456724e-01 -2.47486449e-01  2.47067071e-01\n",
      "  -3.63604779e-03  1.53033104e-01  6.58097760e-01  1.95116614e-01\n",
      "  -4.09740753e-04  2.40578290e-01 -4.26709319e-01 -5.65450614e-01\n",
      "  -8.47377361e-01  1.87388046e-01  2.77370565e-01 -3.18190102e-01\n",
      "   4.07146032e-01  2.56590704e-01  6.82781826e-21 -9.03963861e-02\n",
      "   6.83736486e-01 -8.55379013e-02 -4.86090642e-03  3.85083317e-01\n",
      "   5.80022419e-01  1.91627173e-20  2.38306876e-01  1.72951595e-01\n",
      "   1.52221782e-01 -1.62279502e-01]\n",
      " [ 2.26443770e-02  5.74664600e-01  4.88528962e-01  4.71923907e-01\n",
      "   3.10722978e-01  2.12935544e-01 -1.39476888e-02  4.86736435e-01\n",
      "   1.64237046e-02  2.81553943e-01  8.39246260e-02  1.31516008e-01\n",
      "  -1.30302101e-01 -3.36252983e-02 -1.17836037e-01  6.81406296e-01\n",
      "   3.36466872e-01  3.96698804e-01  1.07924831e-11 -3.62042788e-01\n",
      "   1.02621246e-01  6.65786672e-01 -7.27986689e-01  2.22948814e-01\n",
      "   9.51032605e-02 -1.55020786e-01  2.56776070e-01 -2.24123150e-01\n",
      "   8.75056853e-06 -1.27800936e-01  2.53908471e-01 -6.58693743e-01\n",
      "   2.92843867e-01 -7.77831082e-01  2.70829554e-02  1.47376048e-02\n",
      "  -5.77958752e-01  4.30770072e-01 -2.21394029e-03 -7.43339492e-01\n",
      "   2.02416589e-01  1.72433540e-01  1.73124709e-01 -7.35171817e-01\n",
      "   1.70312124e-01 -2.61118686e-15  5.59319396e-01 -5.04030906e-03\n",
      "   7.42679659e-02 -1.22623345e-01]\n",
      " [ 2.57394494e-01 -8.15284019e-01 -3.78642205e-01 -8.52651092e-01\n",
      "  -5.91360706e-01 -3.04121703e-01  5.72645539e-01 -2.39831160e-01\n",
      "   2.77342323e-01 -3.28547079e-01  2.13209948e-01  4.94983085e-01\n",
      "   2.60708910e-01  4.05746733e-01 -2.37353395e-03 -8.63885048e-02\n",
      "   3.55499199e-01 -3.23227109e-01 -3.39564100e-07  6.95517732e-01\n",
      "   1.00585364e+00 -1.18627142e-01  5.57119012e-01 -2.73902289e-01\n",
      "   4.19822687e-01  1.04108930e-17  3.00174712e-01  2.79409061e-01\n",
      "   7.66439699e-19  9.54429514e-02 -7.09495162e-01  3.32963807e-01\n",
      "  -9.02181837e-01 -3.74800160e-01 -5.74385567e-01  3.43286293e-01\n",
      "  -8.14234725e-01 -2.43485090e-01  8.63210685e-05  7.01366692e-01\n",
      "   3.92764518e-01 -2.38347242e-01 -3.34473483e-01 -7.69899667e-01\n",
      "   3.10589675e-01  5.49748688e-04 -3.63229204e-01  2.43477652e-01\n",
      "   2.72515028e-01 -5.26939358e-02]]\n",
      "Hidden Layer 2 coefficients\n",
      "[[-1.81387183e-01]\n",
      " [ 7.87619706e-01]\n",
      " [ 9.60437773e-01]\n",
      " [ 4.52017468e-01]\n",
      " [ 9.21240579e-01]\n",
      " [-2.30725329e-01]\n",
      " [-3.06050296e-01]\n",
      " [ 7.95512055e-01]\n",
      " [ 1.00483394e+00]\n",
      " [ 4.90828443e-01]\n",
      " [-1.27675026e-01]\n",
      " [-2.12703349e-01]\n",
      " [-1.10693485e-01]\n",
      " [ 9.07832833e-01]\n",
      " [-1.77334227e-01]\n",
      " [ 4.38629064e-01]\n",
      " [ 7.82083444e-01]\n",
      " [ 6.15261557e-01]\n",
      " [ 8.14480442e-22]\n",
      " [-6.61095810e-01]\n",
      " [-7.05389459e-01]\n",
      " [ 3.73970373e-01]\n",
      " [-5.89152179e-01]\n",
      " [ 6.79712948e-01]\n",
      " [-1.62397490e-01]\n",
      " [-1.61189011e-01]\n",
      " [ 8.55176955e-01]\n",
      " [-2.06182161e-01]\n",
      " [-4.25161052e-17]\n",
      " [ 8.19212488e-01]\n",
      " [ 9.32297693e-01]\n",
      " [-6.02763497e-01]\n",
      " [ 6.05438727e-01]\n",
      " [-8.52905609e-01]\n",
      " [ 3.99848333e-01]\n",
      " [-2.39808258e-01]\n",
      " [-7.98053571e-01]\n",
      " [ 4.77188329e-01]\n",
      " [-1.53328413e-03]\n",
      " [-7.19288925e-01]\n",
      " [ 7.89643330e-01]\n",
      " [-2.52360916e-01]\n",
      " [-2.09662954e-01]\n",
      " [-6.81312934e-01]\n",
      " [ 6.78078508e-01]\n",
      " [ 1.91076569e-18]\n",
      " [ 5.77619056e-01]\n",
      " [-2.08896755e-01]\n",
      " [-1.33075229e-01]\n",
      " [-6.96296127e-03]]\n"
     ]
    }
   ],
   "source": [
    "neural_network_pt = MLPClassifier(max_iter=1000, hidden_layer_sizes=(50,)).fit(pt_training_data, pt_training_label)\n",
    "neural_network_koef_pt = neural_network_pt.coefs_\n",
    "print(\"Play Tennis\")\n",
    "print(\"Hidden Layer 1 coefficients\")\n",
    "print(neural_network_koef_pt[0])\n",
    "\n",
    "print(\"Hidden Layer 2 coefficients\")\n",
    "print(neural_network_koef_pt[1])"
   ]
  },
  {
   "cell_type": "code",
   "execution_count": 341,
   "metadata": {},
   "outputs": [
    {
     "name": "stdout",
     "output_type": "stream",
     "text": [
      "Accuracy Score: 0.6666666666666666\n",
      "F1 Score: 0.4\n"
     ]
    }
   ],
   "source": [
    "# Evaluate the model\n",
    "neural_network_results_pt = neural_network_pt.predict(pt_testing_data)\n",
    "print(\"Accuracy Score:\", accuracy_score(pt_testing_label, neural_network_results_pt))\n",
    "print(\"F1 Score:\", f1_score(pt_testing_label, neural_network_results_pt, average='macro'))\n",
    "\n",
    "pt_accuracy_scores['neural_network'] = accuracy_score(pt_testing_label, neural_network_results_pt)\n",
    "pt_f1_scores['neural_network'] = f1_score(pt_testing_label, neural_network_results_pt, average='macro')"
   ]
  },
  {
   "cell_type": "markdown",
   "metadata": {},
   "source": [
    "## SVM\n",
    "Parameter yang digunakan:\n",
    "* kernel: linear\n",
    "* gamma: auto"
   ]
  },
  {
   "cell_type": "code",
   "execution_count": 342,
   "metadata": {},
   "outputs": [
    {
     "name": "stdout",
     "output_type": "stream",
     "text": [
      "Breast Cancer\n",
      "                         Coeffecient\n",
      "mean radius                -0.085418\n",
      "mean texture                0.512835\n",
      "mean perimeter             -1.119029\n",
      "mean area                   0.086925\n",
      "mean smoothness            -0.013175\n",
      "mean compactness           -0.028192\n",
      "mean concavity             -0.045712\n",
      "mean concave points        -0.020102\n",
      "mean symmetry              -0.038129\n",
      "mean fractal dimension     -0.002567\n",
      "radius error               -0.016242\n",
      "texture error              -0.151182\n",
      "perimeter error             0.210347\n",
      "area error                  0.050727\n",
      "smoothness error           -0.000550\n",
      "compactness error           0.002978\n",
      "concavity error            -0.010398\n",
      "concave points error       -0.003096\n",
      "symmetry error             -0.002752\n",
      "fractal dimension error    -0.000047\n",
      "worst radius               -0.083945\n",
      "worst texture              -0.612404\n",
      "worst perimeter             0.153567\n",
      "worst area                 -0.033117\n",
      "worst smoothness           -0.016473\n",
      "worst compactness          -0.021523\n",
      "worst concavity            -0.067738\n",
      "worst concave points       -0.028323\n",
      "worst symmetry             -0.084212\n",
      "worst fractal dimension    -0.004453\n"
     ]
    }
   ],
   "source": [
    "# Create SVM model\n",
    "svm_bc = SVC(kernel='linear', gamma='auto')\n",
    "svm_bc.fit(bc_testing_data, bc_testing_label)\n",
    "svm_koef_bc = pd.DataFrame(svm_bc.coef_.transpose())\n",
    "svm_koef_bc.index = breast_cancer_dataset['feature_names'].tolist()\n",
    "svm_koef_bc.columns = ['Coeffecient']\n",
    "print(\"Breast Cancer\")\n",
    "print(svm_koef_bc)"
   ]
  },
  {
   "cell_type": "code",
   "execution_count": 343,
   "metadata": {},
   "outputs": [
    {
     "name": "stdout",
     "output_type": "stream",
     "text": [
      "Accuracy score: 1.0\n",
      "F1 score: 1.0\n"
     ]
    }
   ],
   "source": [
    "svm_bc_results = svm_bc.predict(bc_testing_data)\n",
    "\n",
    "print(f\"Accuracy score: {accuracy_score(bc_testing_label, svm_bc_results)}\")\n",
    "print(f\"F1 score: {f1_score(bc_testing_label, svm_bc_results, average='macro')}\")\n",
    "\n",
    "bc_accuracy_scores['svm'] = accuracy_score(bc_testing_label, svm_bc_results)\n",
    "bc_f1_scores['svm'] = f1_score(bc_testing_label, svm_bc_results, average='macro')"
   ]
  },
  {
   "cell_type": "code",
   "execution_count": 344,
   "metadata": {},
   "outputs": [
    {
     "name": "stdout",
     "output_type": "stream",
     "text": [
      "Play Tennis\n",
      "          Coeffecient\n",
      "outlook          -1.0\n",
      "temp              0.0\n",
      "humidity          0.0\n",
      "windy             0.0\n"
     ]
    }
   ],
   "source": [
    "# Create SVM model\n",
    "svm_pt = SVC(kernel='linear', gamma='auto').fit(pt_testing_data, pt_testing_label)\n",
    "svm_koef_pt = pd.DataFrame(svm_pt.coef_.transpose())\n",
    "svm_koef_pt.index = play_tennis_dataset.columns[:-1].tolist()\n",
    "svm_koef_pt.columns = ['Coeffecient']\n",
    "\n",
    "# Evaluate the model\n",
    "print(\"Play Tennis\")\n",
    "print(svm_koef_pt)"
   ]
  },
  {
   "cell_type": "code",
   "execution_count": 345,
   "metadata": {},
   "outputs": [
    {
     "name": "stdout",
     "output_type": "stream",
     "text": [
      "Accuracy score: 0.6666666666666666\n",
      "F1 score: 0.4\n"
     ]
    }
   ],
   "source": [
    "svm_pt_results = svm_pt.predict(pt_testing_data)\n",
    "\n",
    "print(f\"Accuracy score: {accuracy_score(pt_testing_label, svm_pt_results)}\")\n",
    "print(f\"F1 score: {f1_score(pt_testing_label, svm_pt_results, average='macro')}\")\n",
    "\n",
    "pt_accuracy_scores['svm'] = accuracy_score(pt_testing_label, svm_pt_results)\n",
    "pt_f1_scores['svm'] = f1_score(pt_testing_label, svm_pt_results, average='macro')"
   ]
  },
  {
   "cell_type": "code",
   "execution_count": 346,
   "metadata": {},
   "outputs": [
    {
     "data": {
      "text/plain": [
       "<Figure size 432x288 with 0 Axes>"
      ]
     },
     "metadata": {},
     "output_type": "display_data"
    },
    {
     "data": {
      "image/png": "[encoded data removed]",
      "text/plain": [
       "<Figure size 432x288 with 1 Axes>"
      ]
     },
     "metadata": {
      "needs_background": "light"
     },
     "output_type": "display_data"
    }
   ],
   "source": [
    "bc_accuracy_df = pd.DataFrame.from_dict(bc_accuracy_scores, orient='index')\n",
    "bc_f1_df = pd.DataFrame.from_dict(bc_f1_scores, orient='index')\n",
    "bc_scores = pd.concat([bc_accuracy_df, bc_f1_df], axis=1)\n",
    "bc_scores.columns = ['Accuracy', 'F1 Score']\n",
    "\n",
    "plt.figure()\n",
    "bc_scores.plot(kind=\"bar\")\n",
    "\n",
    "plt.show()"
   ]
  },
  {
   "cell_type": "markdown",
   "metadata": {},
   "source": [
    "### Analisis Akurasi dan F1 Score dari masing-masing Algoritma pada dataset Breast Cancer\n",
    "Secara kesulurhan, algoritma dengan skor tertinggi adalah SVM dengan Akurasi dan F1 Score adalah 1.\n",
    "Sedangkan untuk algoritma dengan skor terendah adalah Decision Tree dengan nilai Akurasi 0.842 dan F1 Score adalah 0.804"
   ]
  },
  {
   "cell_type": "code",
   "execution_count": 347,
   "metadata": {},
   "outputs": [
    {
     "data": {
      "text/plain": [
       "<Figure size 432x288 with 0 Axes>"
      ]
     },
     "metadata": {},
     "output_type": "display_data"
    },
    {
     "data": {
      "image/png": "[encoded data removed]",
      "text/plain": [
       "<Figure size 432x288 with 1 Axes>"
      ]
     },
     "metadata": {
      "needs_background": "light"
     },
     "output_type": "display_data"
    }
   ],
   "source": [
    "pt_accuracy_df = pd.DataFrame.from_dict(pt_accuracy_scores, orient='index')\n",
    "pt_f1_df = pd.DataFrame.from_dict(pt_f1_scores, orient='index')\n",
    "pt_scores = pd.concat([pt_accuracy_df, pt_f1_df], axis=1)\n",
    "pt_scores.columns = ['Accuracy', 'F1 Score']\n",
    "\n",
    "plt.figure()\n",
    "pt_scores.plot(kind=\"bar\")\n",
    "\n",
    "plt.show()"
   ]
  },
  {
   "cell_type": "markdown",
   "metadata": {},
   "source": [
    "### Analisis Akurasi dan F1 Score dari masing-masing Algoritma pada dataset Play Tennis\n",
    "Secara kesulurhan, algoritma dengan skor tertinggi adalah Decision Tree dengan Akurasi dan F1 Score adalah 1.\n",
    "Sedangkan untuk algoritma dengan skor terendah adalah Logistic Regression, Neural Network, dan SVM dengan nilai Akurasi dan F1 Score yang sama yaitu 0.667 dan 0.4. Juga untuk kelima algoritma selain Decision Tree memiliki nilai Akurasi yang sama yaitu 0.667."
   ]
  },
  {
   "cell_type": "markdown",
   "metadata": {},
   "source": [
    "## Kesimpulan\n",
    "Dapat dilihat secara akesulurahn nilai rata-rata algoritma yang diterapkan pada dataset Breast Cancer lebih tinggi dibandingkan pada dataset Play Tennis. Ini disebabkan jumlah data yang lebih banyak pada dataset Breast Cancer yaitu 569 yang 80%-nya digunakan untuk Training dan 20%-nya untuk Testing. Dibandingkan dengan Play Tennis yang hanya memiliki 14 instance."
   ]
  }
 ],
 "metadata": {
  "interpreter": {
   "hash": "831e9d60628f49ef695c1224b896fa86c6f72dc359ca6b6e6521097980c4e285"
  },
  "kernelspec": {
   "display_name": "Python 3.10.1 64-bit",
   "language": "python",
   "name": "python3"
  },
  "language_info": {
   "codemirror_mode": {
    "name": "ipython",
    "version": 3
   },
   "file_extension": ".py",
   "mimetype": "text/x-python",
   "name": "python",
   "nbconvert_exporter": "python",
   "pygments_lexer": "ipython3",
   "version": "3.8.10"
  },
  "orig_nbformat": 4
 },
 "nbformat": 4,
 "nbformat_minor": 2
}
