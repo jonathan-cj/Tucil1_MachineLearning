{
 "cells": [
  {
   "cell_type": "code",
   "execution_count": 1,
   "metadata": {},
   "outputs": [],
   "source": [
    "import pandas as pd\n",
    "from sklearn import datasets, tree\n",
    "from sklearn.preprocessing import LabelEncoder\n",
    "# from id3 import Id3Estimator, export_text\n",
    "from sklearn.cluster import KMeans\n",
    "from sklearn.neural_network import MLPClassifier\n",
    "from sklearn.metrics import accuracy_score, f1_score\n",
    "from sklearn.linear_model import LogisticRegression\n",
    "from sklearn.pipeline import make_pipeline\n",
    "from sklearn.preprocessing import StandardScaler\n",
    "from sklearn.svm import SVC\n",
    "# Load the breast cancer dataset\n",
    "breast_cancer_dataset = datasets.load_breast_cancer()\n",
    "\n",
    "# Load the play tennis dataset and encode data\n",
    "play_tennis_dataset = pd.read_csv('./PlayTennis.csv')"
   ]
  },
  {
   "cell_type": "code",
   "execution_count": 2,
   "metadata": {},
   "outputs": [],
   "source": [
    "# Encode play tennis dataset\n",
    "label_encoder = LabelEncoder()\n",
    "\n",
    "play_tennis_dataset_encoded = pd.DataFrame([label_encoder.fit_transform(play_tennis_dataset[column]) for column in play_tennis_dataset.columns]).transpose()\n",
    "play_tennis_dataset_encoded.columns = play_tennis_dataset.columns\n",
    "\n",
    "play_tennis_classes = dict()\n",
    "for column in play_tennis_dataset_encoded.columns:\n",
    "    play_tennis_classes[column] = label_encoder.fit(play_tennis_dataset[column]).classes_\n",
    "\n",
    "play_tennis_labels = play_tennis_dataset_encoded.pop('play')"
   ]
  },
  {
   "cell_type": "code",
   "execution_count": 3,
   "metadata": {},
   "outputs": [],
   "source": [
    "# Parse data into training and testing\n",
    "def parse_data(dataset, label, training_percentage):\n",
    "    training_size = round(len(dataset) * training_percentage)\n",
    "\n",
    "    training_data = dataset[:training_size]\n",
    "    testing_data = dataset[training_size:]\n",
    "\n",
    "    training_label = label[:training_size]\n",
    "    testing_label = label[training_size:]\n",
    "    return training_data, testing_data, training_label, testing_label\n",
    "\n",
    "bc_training_data, bc_testing_data, bc_training_label, bc_testing_label = parse_data(breast_cancer_dataset.data, breast_cancer_dataset.target, 0.8)\n",
    "pt_training_data, pt_testing_data, pt_training_label, pt_testing_label = parse_data(play_tennis_dataset_encoded, play_tennis_labels, 0.8)"
   ]
  },
  {
   "cell_type": "markdown",
   "metadata": {},
   "source": [
    "## Decision Tree Classifier"
   ]
  },
  {
   "cell_type": "code",
   "execution_count": 4,
   "metadata": {},
   "outputs": [
    {
     "name": "stdout",
     "output_type": "stream",
     "text": [
      "Breast Cancer\n",
      "|--- worst perimeter <= 106.05\n",
      "|   |--- worst smoothness <= 0.18\n",
      "|   |   |--- worst concave points <= 0.16\n",
      "|   |   |   |--- worst fractal dimension <= 0.06\n",
      "|   |   |   |   |--- class: 0\n",
      "|   |   |   |--- worst fractal dimension >  0.06\n",
      "|   |   |   |   |--- worst texture <= 30.15\n",
      "|   |   |   |   |   |--- area error <= 48.98\n",
      "|   |   |   |   |   |   |--- class: 1\n",
      "|   |   |   |   |   |--- area error >  48.98\n",
      "|   |   |   |   |   |   |--- mean compactness <= 0.06\n",
      "|   |   |   |   |   |   |   |--- class: 0\n",
      "|   |   |   |   |   |   |--- mean compactness >  0.06\n",
      "|   |   |   |   |   |   |   |--- class: 1\n",
      "|   |   |   |   |--- worst texture >  30.15\n",
      "|   |   |   |   |   |--- mean fractal dimension <= 0.06\n",
      "|   |   |   |   |   |   |--- class: 0\n",
      "|   |   |   |   |   |--- mean fractal dimension >  0.06\n",
      "|   |   |   |   |   |   |--- smoothness error <= 0.01\n",
      "|   |   |   |   |   |   |   |--- class: 1\n",
      "|   |   |   |   |   |   |--- smoothness error >  0.01\n",
      "|   |   |   |   |   |   |   |--- mean radius <= 12.38\n",
      "|   |   |   |   |   |   |   |   |--- class: 1\n",
      "|   |   |   |   |   |   |   |--- mean radius >  12.38\n",
      "|   |   |   |   |   |   |   |   |--- class: 0\n",
      "|   |   |--- worst concave points >  0.16\n",
      "|   |   |   |--- smoothness error <= 0.01\n",
      "|   |   |   |   |--- class: 0\n",
      "|   |   |   |--- smoothness error >  0.01\n",
      "|   |   |   |   |--- class: 1\n",
      "|   |--- worst smoothness >  0.18\n",
      "|   |   |--- class: 0\n",
      "|--- worst perimeter >  106.05\n",
      "|   |--- worst perimeter <= 117.45\n",
      "|   |   |--- mean texture <= 19.36\n",
      "|   |   |   |--- mean perimeter <= 91.97\n",
      "|   |   |   |   |--- class: 0\n",
      "|   |   |   |--- mean perimeter >  91.97\n",
      "|   |   |   |   |--- class: 1\n",
      "|   |   |--- mean texture >  19.36\n",
      "|   |   |   |--- worst smoothness <= 0.11\n",
      "|   |   |   |   |--- class: 1\n",
      "|   |   |   |--- worst smoothness >  0.11\n",
      "|   |   |   |   |--- class: 0\n",
      "|   |--- worst perimeter >  117.45\n",
      "|   |   |--- mean concave points <= 0.03\n",
      "|   |   |   |--- class: 1\n",
      "|   |   |--- mean concave points >  0.03\n",
      "|   |   |   |--- class: 0\n",
      "\n"
     ]
    }
   ],
   "source": [
    "# Train model using decision tree\n",
    "\n",
    "# Breast Cancer\n",
    "print(\"Breast Cancer\")\n",
    "tree_decision_bc = tree.DecisionTreeClassifier(random_state=0)\n",
    "tree_decision_bc = tree_decision_bc.fit(bc_training_data, bc_training_label)\n",
    "result = tree.export_text(tree_decision_bc, feature_names=breast_cancer_dataset['feature_names'].tolist())\n",
    "print(result)"
   ]
  },
  {
   "cell_type": "code",
   "execution_count": 5,
   "metadata": {},
   "outputs": [
    {
     "name": "stdout",
     "output_type": "stream",
     "text": [
      "Play Tennis\n",
      "|--- outlook <= 1.50\n",
      "|   |--- windy <= 0.50\n",
      "|   |   |--- class: 1\n",
      "|   |--- windy >  0.50\n",
      "|   |   |--- outlook <= 0.50\n",
      "|   |   |   |--- class: 1\n",
      "|   |   |--- outlook >  0.50\n",
      "|   |   |   |--- class: 0\n",
      "|--- outlook >  1.50\n",
      "|   |--- humidity <= 0.50\n",
      "|   |   |--- class: 0\n",
      "|   |--- humidity >  0.50\n",
      "|   |   |--- class: 1\n",
      "\n"
     ]
    }
   ],
   "source": [
    "\n",
    "# Play Tennis\n",
    "print(\"Play Tennis\")\n",
    "tree_decision_pt = tree.DecisionTreeClassifier(random_state=0)\n",
    "tree_decision_pt = tree_decision_pt.fit(pt_training_data, pt_training_label)\n",
    "result = tree.export_text(tree_decision_pt, feature_names=play_tennis_dataset.columns[:-1].tolist())\n",
    "print(result)"
   ]
  },
  {
   "cell_type": "code",
   "execution_count": 6,
   "metadata": {},
   "outputs": [
    {
     "name": "stdout",
     "output_type": "stream",
     "text": [
      "Breast Cancer\n",
      "Accuracy Score: 0.8421052631578947\n",
      "F1 Score: 0.8044969512195121\n",
      "\n",
      "Play Tennis\n",
      "Accuracy Score: 1.0\n",
      "F1 Score: 1.0\n"
     ]
    }
   ],
   "source": [
    "# Predict testing data using the model\n",
    "\n",
    "# Breast Cancer\n",
    "tree_results_bc = tree_decision_bc.predict(bc_testing_data)\n",
    "# Evaluate the model\n",
    "print(\"Breast Cancer\")\n",
    "print(\"Accuracy Score:\", accuracy_score(bc_testing_label, tree_results_bc))\n",
    "print(\"F1 Score:\", f1_score(bc_testing_label, tree_results_bc, average='macro'))\n",
    "\n",
    "# Play Tennis\n",
    "tree_results_pt = tree_decision_pt.predict(pt_testing_data)\n",
    "# Evaluate the model\n",
    "print(\"\\nPlay Tennis\")\n",
    "print(\"Accuracy Score:\", accuracy_score(pt_testing_label, tree_results_pt))\n",
    "print(\"F1 Score:\", f1_score(pt_testing_label, tree_results_pt, average='macro'))"
   ]
  },
  {
   "cell_type": "markdown",
   "metadata": {},
   "source": [
    "## Id3 Estimator"
   ]
  },
  {
   "cell_type": "code",
   "execution_count": 7,
   "metadata": {},
   "outputs": [],
   "source": [
    "# id3_estimator = Id3Estimator()\n",
    "# id3_estimator = id3_estimator.fit(training_data, training_label)\n",
    "# id3_tree = export_text(id3_estimator.tree_, breast_cancer_dataset['feature_names'])\n",
    "# print(id3_tree)"
   ]
  },
  {
   "cell_type": "markdown",
   "metadata": {},
   "source": [
    "## K-Means"
   ]
  },
  {
   "cell_type": "code",
   "execution_count": 8,
   "metadata": {},
   "outputs": [
    {
     "name": "stdout",
     "output_type": "stream",
     "text": [
      "Breast Cancer\n",
      "                          Centroid 1  Centroid 2\n",
      "mean radius                19.222478   12.587553\n",
      "mean texture               21.637257   18.114649\n",
      "mean perimeter            127.108850   81.335819\n",
      "mean area                1164.976106  498.400585\n",
      "mean smoothness             0.101174    0.094907\n",
      "mean compactness            0.147851    0.090839\n",
      "mean concavity              0.173736    0.064169\n",
      "mean concave points         0.099197    0.034212\n",
      "mean symmetry               0.192082    0.179094\n",
      "mean fractal dimension      0.060460    0.063360\n",
      "radius error                0.718746    0.309820\n",
      "texture error               1.218749    1.195348\n",
      "perimeter error             5.091000    2.180759\n",
      "area error                 91.098673   24.335713\n",
      "smoothness error            0.006624    0.007115\n",
      "compactness error           0.032062    0.023753\n",
      "concavity error             0.042033    0.029298\n",
      "concave points error        0.015471    0.010760\n",
      "symmetry error              0.020625    0.021047\n",
      "fractal dimension error     0.003910    0.003774\n",
      "worst radius               23.543805   14.106199\n",
      "worst texture              28.990973   24.228187\n",
      "worst perimeter           157.214159   92.317427\n",
      "worst area               1727.044248  625.180409\n",
      "worst smoothness            0.141291    0.129660\n",
      "worst compactness           0.360365    0.224207\n",
      "worst concavity             0.449987    0.221810\n",
      "worst concave points        0.192116    0.092466\n",
      "worst symmetry              0.316540    0.286665\n",
      "worst fractal dimension     0.086298    0.083261\n"
     ]
    }
   ],
   "source": [
    "# Run K-Means clustering\n",
    "kmeans = KMeans(n_clusters=2, random_state=0).fit(bc_training_data)\n",
    "kmeans_results = kmeans.predict(bc_testing_data)\n",
    "\n",
    "print(\"Breast Cancer\")\n",
    "kmeans_centroids_bc = pd.DataFrame(kmeans.cluster_centers_.transpose())\n",
    "kmeans_centroids_bc.index = breast_cancer_dataset['feature_names'].tolist()\n",
    "kmeans_centroids_bc.columns = [\"Centroid 1\", \"Centroid 2\"]\n",
    "print(kmeans_centroids_bc)"
   ]
  },
  {
   "cell_type": "code",
   "execution_count": 9,
   "metadata": {},
   "outputs": [
    {
     "name": "stdout",
     "output_type": "stream",
     "text": [
      "Breast Cancer\n",
      "Accuracy Score: 0.9122807017543859\n",
      "F1 Score: 0.8591897233201581\n"
     ]
    }
   ],
   "source": [
    "# Evaluate the model\n",
    "print(\"Breast Cancer\")\n",
    "print(\"Accuracy Score:\", accuracy_score(bc_testing_label, kmeans_results))\n",
    "print(\"F1 Score:\", f1_score(bc_testing_label, kmeans_results, average='macro'))"
   ]
  },
  {
   "cell_type": "markdown",
   "metadata": {},
   "source": [
    "## Logistic Regression"
   ]
  },
  {
   "cell_type": "code",
   "execution_count": 10,
   "metadata": {},
   "outputs": [
    {
     "name": "stdout",
     "output_type": "stream",
     "text": [
      "0.9298245614035088\n",
      "0.9298245614035088\n"
     ]
    }
   ],
   "source": [
    "# Run Logistic Regression\n",
    "logistic_regression = LogisticRegression(random_state=0, max_iter=2500).fit(bc_training_data, bc_training_label)\n",
    "logistic_regression_results = logistic_regression.predict(bc_testing_data)\n",
    "\n",
    "# Evaluate the model\n",
    "print(accuracy_score(bc_testing_label, logistic_regression_results))\n",
    "print(f1_score(bc_testing_label, logistic_regression_results, average='micro'))"
   ]
  },
  {
   "cell_type": "markdown",
   "metadata": {},
   "source": [
    "## Neural Network"
   ]
  },
  {
   "cell_type": "code",
   "execution_count": 11,
   "metadata": {},
   "outputs": [
    {
     "name": "stdout",
     "output_type": "stream",
     "text": [
      "0.9298245614035088\n",
      "0.9053156146179402\n"
     ]
    }
   ],
   "source": [
    "neural_network = MLPClassifier(max_iter=300).fit(bc_training_data, bc_training_label)\n",
    "neural_network_results = neural_network.predict(bc_testing_data)\n",
    "# neural_network.score(testing_data, testing_label)\n",
    "\n",
    "# Evaluate the model\n",
    "print(accuracy_score(bc_testing_label, neural_network_results))\n",
    "print(f1_score(bc_testing_label, neural_network_results, average='macro'))"
   ]
  },
  {
   "cell_type": "markdown",
   "metadata": {},
   "source": [
    "## SVM"
   ]
  },
  {
   "cell_type": "code",
   "execution_count": 12,
   "metadata": {},
   "outputs": [
    {
     "name": "stdout",
     "output_type": "stream",
     "text": [
      "Breast Cancer\n",
      "0.9824561403508771\n",
      "0.9743820224719102\n",
      "\n"
     ]
    }
   ],
   "source": [
    "# Create SVM model\n",
    "svm_bc = make_pipeline(StandardScaler(), SVC(gamma='auto')).fit(bc_testing_data, bc_testing_label)\n",
    "svm_bc_results = svm_bc.predict(bc_testing_data)\n",
    "\n",
    "# Evaluate the model\n",
    "print(\"Breast Cancer\")\n",
    "print(accuracy_score(bc_testing_label, svm_bc_results))\n",
    "print(f1_score(bc_testing_label, svm_bc_results, average='macro'))\n",
    "print()\n",
    "\n",
    "# print(\"Play Tennis\")\n",
    "# print(accuracy_score(bc_testing_label, svc_results))\n",
    "# print(f1_score(bc_testing_label, svc_results, average='macro'))\n",
    "# print()"
   ]
  }
 ],
 "metadata": {
  "interpreter": {
   "hash": "831e9d60628f49ef695c1224b896fa86c6f72dc359ca6b6e6521097980c4e285"
  },
  "kernelspec": {
   "display_name": "Python 3.10.1 64-bit",
   "language": "python",
   "name": "python3"
  },
  "language_info": {
   "codemirror_mode": {
    "name": "ipython",
    "version": 3
   },
   "file_extension": ".py",
   "mimetype": "text/x-python",
   "name": "python",
   "nbconvert_exporter": "python",
   "pygments_lexer": "ipython3",
   "version": "3.10.1"
  },
  "orig_nbformat": 4
 },
 "nbformat": 4,
 "nbformat_minor": 2
}
